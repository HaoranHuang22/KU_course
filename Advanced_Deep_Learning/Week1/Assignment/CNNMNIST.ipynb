{
 "cells": [
  {
   "cell_type": "code",
   "execution_count": 1,
   "metadata": {},
   "outputs": [],
   "source": [
    "import torch\n",
    "import torch.nn as nn\n",
    "import torch.optim as optim\n",
    "import torch.utils.data as dset\n",
    "from torchsummary import summary\n",
    "from torchvision import datasets, transforms"
   ]
  },
  {
   "cell_type": "code",
   "execution_count": 3,
   "metadata": {},
   "outputs": [
    {
     "name": "stdout",
     "output_type": "stream",
     "text": [
      "GPU State: cpu\n"
     ]
    }
   ],
   "source": [
    "# GPU\n",
    "device = 'cuda:0' if torch.cuda.is_available() else 'cpu'\n",
    "print('GPU State:', device)"
   ]
  },
  {
   "cell_type": "code",
   "execution_count": 4,
   "metadata": {},
   "outputs": [],
   "source": [
    "def training_loop(model, loss, optimizer, train_Loader, n_epochs, verbose=True, device=device):\n",
    "    \"\"\"\n",
    "    Run training of a model given a loss function, optimizer and a set of training and validation data.\n",
    "    \"\"\"\n",
    "\n",
    "    # Train\n",
    "    for epoch in range(epochs):\n",
    "        running_loss = 0.0\n",
    "\n",
    "        for times, data in enumerate(train_Loader):\n",
    "            inputs, labels = data[0].to(device), data[1].to(device)\n",
    "            inputs = inputs.view(inputs.shape[0], -1)\n",
    "\n",
    "            # Zero the parameter gradients\n",
    "            optimizer.zero_grad()\n",
    "\n",
    "            # Foward + backward + optimize\n",
    "            outputs = net(inputs)\n",
    "            loss_tensor = loss(outputs, labels)\n",
    "            loss_tensor.backward()\n",
    "            optimizer.step()\n",
    "\n",
    "            # Print statistics\n",
    "            running_loss += loss_tensor.item()\n",
    "            if verbose:\n",
    "                if times % 100 == 99 or times+1 == len(trainLoader):\n",
    "                    print('[%d/%d, %d/%d] loss: %.3f' % (epoch+1, epochs, times+1, len(trainLoader), running_loss/2000))      "
   ]
  },
  {
   "cell_type": "code",
   "execution_count": 5,
   "metadata": {},
   "outputs": [],
   "source": [
    "def evaluate_model(model, data_loader, device=device):\n",
    "    \"\"\"\n",
    "    Evaluate a model 'model' on all batches of a torch DataLoader 'data_loader'.\n",
    "    \n",
    "    Returns: the total number of correct classifications,\n",
    "             the total number of images\n",
    "             the list of the per class correct classification,\n",
    "             the list of the per class total number of images.\n",
    "    \"\"\"\n",
    "    \n",
    "    # Test\n",
    "    correct = 0\n",
    "    total = 0\n",
    "\n",
    "    with torch.no_grad():\n",
    "        for data in testLoader:\n",
    "            inputs, labels = data\n",
    "            inputs, labels = inputs.to(device), labels.to(device)\n",
    "            inputs = inputs.view(inputs.shape[0], -1)\n",
    "\n",
    "            outputs = net(inputs)\n",
    "            _, predicted = torch.max(outputs.data, 1)\n",
    "            total += labels.size(0)\n",
    "            correct += (predicted == labels).sum().item()\n",
    "\n",
    "    class_correct = [0 for i in range(10)]\n",
    "    class_total = [0 for i in range(10)]\n",
    "\n",
    "    with torch.no_grad():\n",
    "        for data in testLoader:\n",
    "            inputs, labels = data[0].to(device), data[1].to(device)\n",
    "            inputs = inputs.view(inputs.shape[0], -1)\n",
    "\n",
    "            outputs = net(inputs)\n",
    "            _, predicted = torch.max(outputs, 1)\n",
    "            c = (predicted == labels).squeeze()\n",
    "            for i in range(10):\n",
    "                label = labels[i]\n",
    "                class_correct[label] += c[i].item()\n",
    "                class_total[label] += 1\n",
    "    \n",
    "    return (correct, total, class_correct, class_total)"
   ]
  },
  {
   "cell_type": "code",
   "execution_count": 6,
   "metadata": {},
   "outputs": [],
   "source": [
    "# Transform\n",
    "transform = transforms.Compose(\n",
    "    [transforms.ToTensor(),\n",
    "     transforms.Normalize((0.5,), (0.5,)),]\n",
    ")"
   ]
  },
  {
   "cell_type": "code",
   "execution_count": 7,
   "metadata": {},
   "outputs": [],
   "source": [
    "# Data\n",
    "trainSet = datasets.MNIST(root='MNIST', download=True, train=True, transform=transform)\n",
    "testSet = datasets.MNIST(root='MNIST', download=True, train=False, transform=transform)\n",
    "trainLoader = dset.DataLoader(trainSet, batch_size=64, shuffle=True)\n",
    "testLoader = dset.DataLoader(testSet, batch_size=64, shuffle=False)"
   ]
  },
  {
   "cell_type": "code",
   "execution_count": 14,
   "metadata": {},
   "outputs": [
    {
     "name": "stdout",
     "output_type": "stream",
     "text": [
      "Net(\n",
      "  (main): Sequential(\n",
      "    (0): Conv2d(1, 16, kernel_size=(3, 3), stride=(1, 1))\n",
      "    (1): ReLU()\n",
      "    (2): MaxPool2d(kernel_size=2, stride=2, padding=0, dilation=1, ceil_mode=False)\n",
      "    (3): Conv2d(16, 32, kernel_size=(3, 3), stride=(1, 1))\n",
      "    (4): ReLU()\n",
      "    (5): MaxPool2d(kernel_size=2, stride=2, padding=0, dilation=1, ceil_mode=False)\n",
      "    (6): Flatten(start_dim=1, end_dim=-1)\n",
      "    (7): Linear(in_features=800, out_features=10, bias=True)\n",
      "    (8): LogSoftmax(dim=1)\n",
      "  )\n",
      ")\n",
      "----------------------------------------------------------------\n",
      "        Layer (type)               Output Shape         Param #\n",
      "================================================================\n",
      "            Conv2d-1           [-1, 16, 26, 26]             160\n",
      "              ReLU-2           [-1, 16, 26, 26]               0\n",
      "         MaxPool2d-3           [-1, 16, 13, 13]               0\n",
      "            Conv2d-4           [-1, 32, 11, 11]           4,640\n",
      "              ReLU-5           [-1, 32, 11, 11]               0\n",
      "         MaxPool2d-6             [-1, 32, 5, 5]               0\n",
      "           Flatten-7                  [-1, 800]               0\n",
      "            Linear-8                   [-1, 10]           8,010\n",
      "        LogSoftmax-9                   [-1, 10]               0\n",
      "================================================================\n",
      "Total params: 12,810\n",
      "Trainable params: 12,810\n",
      "Non-trainable params: 0\n",
      "----------------------------------------------------------------\n",
      "Input size (MB): 0.00\n",
      "Forward/backward pass size (MB): 0.26\n",
      "Params size (MB): 0.05\n",
      "Estimated Total Size (MB): 0.31\n",
      "----------------------------------------------------------------\n",
      "None\n"
     ]
    }
   ],
   "source": [
    "# Model\n",
    "class Net(nn.Module):\n",
    "    def __init__(self):\n",
    "        super(Net, self).__init__()\n",
    "        self.main = nn.Sequential(\n",
    "            nn.Conv2d(1, 16, 3, stride=(1,1)),\n",
    "            nn.ReLU(),\n",
    "            nn.MaxPool2d(2, stride=2, padding=0, dilation=1, ceil_mode=False),\n",
    "            nn.Conv2d(16, 32, 3, stride=(1,1)),\n",
    "            nn.ReLU(),\n",
    "            nn.MaxPool2d(2, stride=2, padding=0, dilation=1, ceil_mode=False),\n",
    "            nn.Flatten(start_dim=1, end_dim=-1),\n",
    "            nn.Linear(800, 10),\n",
    "            nn.LogSoftmax(dim=1)\n",
    "        )\n",
    "\n",
    "    def forward(self, input):\n",
    "        input = input.view(input.shape[0], 1, 28, 28)\n",
    "        return self.main(input)\n",
    "\n",
    "\n",
    "net = Net().to(device)\n",
    "print(net)\n",
    "print(summary(net, (1, 28, 28)))"
   ]
  },
  {
   "cell_type": "code",
   "execution_count": 17,
   "metadata": {},
   "outputs": [
    {
     "data": {
      "text/plain": [
       "4640"
      ]
     },
     "execution_count": 17,
     "metadata": {},
     "output_type": "execute_result"
    }
   ],
   "source": [
    "16 * 32 * 3*3 + 32"
   ]
  },
  {
   "cell_type": "code",
   "execution_count": 15,
   "metadata": {},
   "outputs": [
    {
     "name": "stdout",
     "output_type": "stream",
     "text": [
      "Training on 60000 images\n",
      "[1/4, 100/938] loss: 0.091\n",
      "[1/4, 200/938] loss: 0.121\n",
      "[1/4, 300/938] loss: 0.139\n",
      "[1/4, 400/938] loss: 0.153\n",
      "[1/4, 500/938] loss: 0.165\n",
      "[1/4, 600/938] loss: 0.175\n",
      "[1/4, 700/938] loss: 0.184\n",
      "[1/4, 800/938] loss: 0.193\n",
      "[1/4, 900/938] loss: 0.201\n",
      "[1/4, 938/938] loss: 0.204\n",
      "[2/4, 100/938] loss: 0.008\n",
      "[2/4, 200/938] loss: 0.015\n",
      "[2/4, 300/938] loss: 0.021\n",
      "[2/4, 400/938] loss: 0.028\n",
      "[2/4, 500/938] loss: 0.034\n",
      "[2/4, 600/938] loss: 0.040\n",
      "[2/4, 700/938] loss: 0.045\n",
      "[2/4, 800/938] loss: 0.051\n",
      "[2/4, 900/938] loss: 0.056\n",
      "[2/4, 938/938] loss: 0.059\n",
      "[3/4, 100/938] loss: 0.005\n",
      "[3/4, 200/938] loss: 0.010\n",
      "[3/4, 300/938] loss: 0.015\n",
      "[3/4, 400/938] loss: 0.020\n",
      "[3/4, 500/938] loss: 0.025\n",
      "[3/4, 600/938] loss: 0.030\n",
      "[3/4, 700/938] loss: 0.034\n",
      "[3/4, 800/938] loss: 0.039\n",
      "[3/4, 900/938] loss: 0.043\n",
      "[3/4, 938/938] loss: 0.044\n",
      "[4/4, 100/938] loss: 0.004\n",
      "[4/4, 200/938] loss: 0.008\n",
      "[4/4, 300/938] loss: 0.012\n",
      "[4/4, 400/938] loss: 0.016\n",
      "[4/4, 500/938] loss: 0.020\n",
      "[4/4, 600/938] loss: 0.024\n",
      "[4/4, 700/938] loss: 0.028\n",
      "[4/4, 800/938] loss: 0.031\n",
      "[4/4, 900/938] loss: 0.036\n",
      "[4/4, 938/938] loss: 0.037\n",
      "Training Finished.\n",
      "\n",
      "Accuracy of the network on the 10000 test images: 97 %\n",
      "Accuracy of 0: 0.993421\n",
      "Accuracy of 1: 0.983784\n",
      "Accuracy of 2: 0.970930\n",
      "Accuracy of 3: 0.948718\n",
      "Accuracy of 4: 0.983051\n",
      "Accuracy of 5: 0.976190\n",
      "Accuracy of 6: 0.968750\n",
      "Accuracy of 7: 0.969512\n",
      "Accuracy of 8: 0.979021\n",
      "Accuracy of 9: 0.988024\n"
     ]
    }
   ],
   "source": [
    "# Parameters\n",
    "epochs = 4\n",
    "lr = 0.002\n",
    "loss = nn.NLLLoss()\n",
    "optimizer = optim.SGD(net.parameters(), lr=0.002, momentum=0.9)\n",
    "\n",
    "# Train\n",
    "print('Training on %d images' % trainSet.data.shape[0])\n",
    "training_loop(net, loss, optimizer, trainLoader, epochs)\n",
    "print('Training Finished.\\n')\n",
    "\n",
    "# Test\n",
    "correct, total, class_correct, class_total = evaluate_model(net, testLoader)\n",
    "print('Accuracy of the network on the %d test images: %d %%' % (testSet.data.shape[0], (100*correct / total)))\n",
    "for i in range(10):\n",
    "    print('Accuracy of %d: %3f' % (i, (class_correct[i]/class_total[i])))"
   ]
  },
  {
   "cell_type": "code",
   "execution_count": null,
   "metadata": {},
   "outputs": [],
   "source": []
  }
 ],
 "metadata": {
  "kernelspec": {
   "display_name": "base",
   "language": "python",
   "name": "python3"
  },
  "language_info": {
   "codemirror_mode": {
    "name": "ipython",
    "version": 3
   },
   "file_extension": ".py",
   "mimetype": "text/x-python",
   "name": "python",
   "nbconvert_exporter": "python",
   "pygments_lexer": "ipython3",
   "version": "3.9.13"
  },
  "orig_nbformat": 4
 },
 "nbformat": 4,
 "nbformat_minor": 2
}
