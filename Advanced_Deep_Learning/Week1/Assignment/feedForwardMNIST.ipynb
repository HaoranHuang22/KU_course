{
 "cells": [
  {
   "cell_type": "markdown",
   "id": "2c0abd51",
   "metadata": {},
   "source": [
    "# Feedforward classification of the NMIST data\n",
    "### Advanced Deep Learning 2023\n",
    "This notebook was written originally Jon Sporring (mailto:sporring@di.ku.dk) and heavily inspired by https://clay-atlas.com/us/blog/2021/04/22/pytorch-en-tutorial-4-train-a-model-to-classify-mnist.\n",
    "\n",
    "We consider the Modified National Institute of Standards and Technology database of handwritten digits (MNIST): http://yann.lecun.com/exdb/mnist/"
   ]
  },
  {
   "cell_type": "markdown",
   "id": "a4b1cd80",
   "metadata": {},
   "source": [
    "## Installs\n",
    "\n",
    "On non-colab system, is usually good to make an environment and install necessary tools there. E.g., anaconda->jupyter->terminal create an environment, if you have not already, and activate it:\n",
    "```\n",
    "conda create -n adl python=3.9\n",
    "conda activate adl\n",
    "```\n",
    "then install missing packages such as:\n",
    "```\n",
    "conda install ipykernel torch matplotlib torchmetrics scikit-image jpeg\n",
    "conda install -c conda-forge segmentation-models-pytorch ipywidgets\n",
    "```\n",
    "and if you want to add it to jupyter's drop-down menu\n",
    "```\n",
    "ipython kernel install --user --name=adl\n",
    "```\n",
    "Now reload the jupyter-notebook's homepage and make a new or load an existing file. On colab, the tools have to be installed everytime"
   ]
  },
  {
   "cell_type": "code",
   "execution_count": 1,
   "id": "4afe90fa",
   "metadata": {},
   "outputs": [],
   "source": [
    "try:\n",
    "  import google.colab\n",
    "  IN_COLAB = True\n",
    "except:\n",
    "  IN_COLAB = False\n",
    "if IN_COLAB:\n",
    "    !pip3 install torch matplotlib torchmetrics scikit-image segmentation-models-pytorch"
   ]
  },
  {
   "cell_type": "markdown",
   "id": "0112f199",
   "metadata": {},
   "source": [
    "## Imports"
   ]
  },
  {
   "cell_type": "code",
   "execution_count": 8,
   "id": "372f3da4",
   "metadata": {},
   "outputs": [],
   "source": [
    "import torch\n",
    "import torch.nn as nn\n",
    "import torch.optim as optim\n",
    "import torch.utils.data as dset\n",
    "from torchsummary import summary\n",
    "from torchvision import datasets, transforms"
   ]
  },
  {
   "cell_type": "markdown",
   "id": "709fa153",
   "metadata": {},
   "source": [
    "## Set global device "
   ]
  },
  {
   "cell_type": "code",
   "execution_count": 2,
   "id": "ef384f3a",
   "metadata": {},
   "outputs": [
    {
     "name": "stdout",
     "output_type": "stream",
     "text": [
      "GPU State: cpu\n"
     ]
    }
   ],
   "source": [
    "# GPU\n",
    "device = 'cuda:0' if torch.cuda.is_available() else 'cpu'\n",
    "print('GPU State:', device)"
   ]
  },
  {
   "cell_type": "markdown",
   "id": "c0479fa7",
   "metadata": {},
   "source": [
    "## Functions"
   ]
  },
  {
   "cell_type": "code",
   "execution_count": 3,
   "id": "16d728ef",
   "metadata": {},
   "outputs": [],
   "source": [
    "def training_loop(model, loss, optimizer, train_Loader, n_epochs, verbose=True, device=device):\n",
    "    \"\"\"\n",
    "    Run training of a model given a loss function, optimizer and a set of training and validation data.\n",
    "    \"\"\"\n",
    "\n",
    "    # Train\n",
    "    for epoch in range(epochs):\n",
    "        running_loss = 0.0\n",
    "\n",
    "        for times, data in enumerate(train_Loader):\n",
    "            inputs, labels = data[0].to(device), data[1].to(device)\n",
    "            inputs = inputs.view(inputs.shape[0], -1)\n",
    "\n",
    "            # Zero the parameter gradients\n",
    "            optimizer.zero_grad()\n",
    "\n",
    "            # Foward + backward + optimize\n",
    "            outputs = net(inputs)\n",
    "            loss_tensor = loss(outputs, labels)\n",
    "            loss_tensor.backward()\n",
    "            optimizer.step()\n",
    "\n",
    "            # Print statistics\n",
    "            running_loss += loss_tensor.item()\n",
    "            if verbose:\n",
    "                if times % 100 == 99 or times+1 == len(trainLoader):\n",
    "                    print('[%d/%d, %d/%d] loss: %.3f' % (epoch+1, epochs, times+1, len(trainLoader), running_loss/2000))                "
   ]
  },
  {
   "cell_type": "code",
   "execution_count": 4,
   "id": "2d7ce08f",
   "metadata": {},
   "outputs": [],
   "source": [
    "def evaluate_model(model, data_loader, device=device):\n",
    "    \"\"\"\n",
    "    Evaluate a model 'model' on all batches of a torch DataLoader 'data_loader'.\n",
    "    \n",
    "    Returns: the total number of correct classifications,\n",
    "             the total number of images\n",
    "             the list of the per class correct classification,\n",
    "             the list of the per class total number of images.\n",
    "    \"\"\"\n",
    "    \n",
    "    # Test\n",
    "    correct = 0\n",
    "    total = 0\n",
    "\n",
    "    with torch.no_grad():\n",
    "        for data in testLoader:\n",
    "            inputs, labels = data\n",
    "            inputs, labels = inputs.to(device), labels.to(device)\n",
    "            inputs = inputs.view(inputs.shape[0], -1)\n",
    "\n",
    "            outputs = net(inputs)\n",
    "            _, predicted = torch.max(outputs.data, 1)\n",
    "            total += labels.size(0)\n",
    "            correct += (predicted == labels).sum().item()\n",
    "\n",
    "    class_correct = [0 for i in range(10)]\n",
    "    class_total = [0 for i in range(10)]\n",
    "\n",
    "    with torch.no_grad():\n",
    "        for data in testLoader:\n",
    "            inputs, labels = data[0].to(device), data[1].to(device)\n",
    "            inputs = inputs.view(inputs.shape[0], -1)\n",
    "\n",
    "            outputs = net(inputs)\n",
    "            _, predicted = torch.max(outputs, 1)\n",
    "            c = (predicted == labels).squeeze()\n",
    "            for i in range(10):\n",
    "                label = labels[i]\n",
    "                class_correct[label] += c[i].item()\n",
    "                class_total[label] += 1\n",
    "    \n",
    "    return (correct, total, class_correct, class_total)\n"
   ]
  },
  {
   "cell_type": "markdown",
   "id": "cd353eee",
   "metadata": {},
   "source": [
    "## Main program"
   ]
  },
  {
   "cell_type": "code",
   "execution_count": 5,
   "id": "142ae598",
   "metadata": {},
   "outputs": [],
   "source": [
    "# Transform\n",
    "transform = transforms.Compose(\n",
    "    [transforms.ToTensor(),\n",
    "     transforms.Normalize((0.5,), (0.5,)),]\n",
    ")"
   ]
  },
  {
   "cell_type": "code",
   "execution_count": 6,
   "id": "94591bc3",
   "metadata": {},
   "outputs": [
    {
     "name": "stdout",
     "output_type": "stream",
     "text": [
      "Downloading http://yann.lecun.com/exdb/mnist/train-images-idx3-ubyte.gz\n",
      "Downloading http://yann.lecun.com/exdb/mnist/train-images-idx3-ubyte.gz to MNIST/MNIST/raw/train-images-idx3-ubyte.gz\n"
     ]
    },
    {
     "data": {
      "application/vnd.jupyter.widget-view+json": {
       "model_id": "0ad0c4e6be084c4cb4a66f33a6670109",
       "version_major": 2,
       "version_minor": 0
      },
      "text/plain": [
       "  0%|          | 0/9912422 [00:00<?, ?it/s]"
      ]
     },
     "metadata": {},
     "output_type": "display_data"
    },
    {
     "name": "stdout",
     "output_type": "stream",
     "text": [
      "Extracting MNIST/MNIST/raw/train-images-idx3-ubyte.gz to MNIST/MNIST/raw\n",
      "\n",
      "Downloading http://yann.lecun.com/exdb/mnist/train-labels-idx1-ubyte.gz\n",
      "Downloading http://yann.lecun.com/exdb/mnist/train-labels-idx1-ubyte.gz to MNIST/MNIST/raw/train-labels-idx1-ubyte.gz\n"
     ]
    },
    {
     "data": {
      "application/vnd.jupyter.widget-view+json": {
       "model_id": "e73ee34aeefd40ce8d0ebde7f0ca1bac",
       "version_major": 2,
       "version_minor": 0
      },
      "text/plain": [
       "  0%|          | 0/28881 [00:00<?, ?it/s]"
      ]
     },
     "metadata": {},
     "output_type": "display_data"
    },
    {
     "name": "stdout",
     "output_type": "stream",
     "text": [
      "Extracting MNIST/MNIST/raw/train-labels-idx1-ubyte.gz to MNIST/MNIST/raw\n",
      "\n",
      "Downloading http://yann.lecun.com/exdb/mnist/t10k-images-idx3-ubyte.gz\n",
      "Downloading http://yann.lecun.com/exdb/mnist/t10k-images-idx3-ubyte.gz to MNIST/MNIST/raw/t10k-images-idx3-ubyte.gz\n"
     ]
    },
    {
     "data": {
      "application/vnd.jupyter.widget-view+json": {
       "model_id": "52a5d3f62c424306adbb66d32ba00bab",
       "version_major": 2,
       "version_minor": 0
      },
      "text/plain": [
       "  0%|          | 0/1648877 [00:00<?, ?it/s]"
      ]
     },
     "metadata": {},
     "output_type": "display_data"
    },
    {
     "name": "stdout",
     "output_type": "stream",
     "text": [
      "Extracting MNIST/MNIST/raw/t10k-images-idx3-ubyte.gz to MNIST/MNIST/raw\n",
      "\n",
      "Downloading http://yann.lecun.com/exdb/mnist/t10k-labels-idx1-ubyte.gz\n",
      "Downloading http://yann.lecun.com/exdb/mnist/t10k-labels-idx1-ubyte.gz to MNIST/MNIST/raw/t10k-labels-idx1-ubyte.gz\n"
     ]
    },
    {
     "data": {
      "application/vnd.jupyter.widget-view+json": {
       "model_id": "75cec218cdaa4ba1b1ca1ddbc121572a",
       "version_major": 2,
       "version_minor": 0
      },
      "text/plain": [
       "  0%|          | 0/4542 [00:00<?, ?it/s]"
      ]
     },
     "metadata": {},
     "output_type": "display_data"
    },
    {
     "name": "stdout",
     "output_type": "stream",
     "text": [
      "Extracting MNIST/MNIST/raw/t10k-labels-idx1-ubyte.gz to MNIST/MNIST/raw\n",
      "\n"
     ]
    }
   ],
   "source": [
    "# Data\n",
    "trainSet = datasets.MNIST(root='MNIST', download=True, train=True, transform=transform)\n",
    "testSet = datasets.MNIST(root='MNIST', download=True, train=False, transform=transform)\n",
    "trainLoader = dset.DataLoader(trainSet, batch_size=64, shuffle=True)\n",
    "testLoader = dset.DataLoader(testSet, batch_size=64, shuffle=False)"
   ]
  },
  {
   "cell_type": "code",
   "execution_count": 10,
   "id": "848e7dcc",
   "metadata": {},
   "outputs": [
    {
     "name": "stdout",
     "output_type": "stream",
     "text": [
      "Net(\n",
      "  (main): Sequential(\n",
      "    (0): Linear(in_features=784, out_features=128, bias=True)\n",
      "    (1): ReLU()\n",
      "    (2): Linear(in_features=128, out_features=64, bias=True)\n",
      "    (3): ReLU()\n",
      "    (4): Linear(in_features=64, out_features=10, bias=True)\n",
      "    (5): LogSoftmax(dim=1)\n",
      "  )\n",
      ")\n",
      "----------------------------------------------------------------\n",
      "        Layer (type)               Output Shape         Param #\n",
      "================================================================\n",
      "            Linear-1               [-1, 1, 128]         100,480\n",
      "              ReLU-2               [-1, 1, 128]               0\n",
      "            Linear-3                [-1, 1, 64]           8,256\n",
      "              ReLU-4                [-1, 1, 64]               0\n",
      "            Linear-5                [-1, 1, 10]             650\n",
      "        LogSoftmax-6                [-1, 1, 10]               0\n",
      "================================================================\n",
      "Total params: 109,386\n",
      "Trainable params: 109,386\n",
      "Non-trainable params: 0\n",
      "----------------------------------------------------------------\n",
      "Input size (MB): 0.00\n",
      "Forward/backward pass size (MB): 0.00\n",
      "Params size (MB): 0.42\n",
      "Estimated Total Size (MB): 0.42\n",
      "----------------------------------------------------------------\n",
      "None\n"
     ]
    }
   ],
   "source": [
    "# Model\n",
    "class Net(nn.Module):\n",
    "    def __init__(self):\n",
    "        super(Net, self).__init__()\n",
    "        self.main = nn.Sequential(\n",
    "            nn.Linear(in_features=784, out_features=128),\n",
    "            nn.ReLU(),\n",
    "            nn.Linear(in_features=128, out_features=64),\n",
    "            nn.ReLU(),\n",
    "            nn.Linear(in_features=64, out_features=10),\n",
    "            nn.LogSoftmax(dim=1)\n",
    "        )\n",
    "\n",
    "    def forward(self, input):\n",
    "        return self.main(input)\n",
    "\n",
    "\n",
    "net = Net().to(device)\n",
    "print(net)\n",
    "print(summary(net, (1,784)))"
   ]
  },
  {
   "cell_type": "code",
   "execution_count": 11,
   "id": "fce0735b",
   "metadata": {},
   "outputs": [
    {
     "name": "stdout",
     "output_type": "stream",
     "text": [
      "Training on 60000 images\n",
      "[1/4, 100/938] loss: 0.107\n",
      "[1/4, 200/938] loss: 0.174\n",
      "[1/4, 300/938] loss: 0.210\n",
      "[1/4, 400/938] loss: 0.237\n",
      "[1/4, 500/938] loss: 0.261\n",
      "[1/4, 600/938] loss: 0.283\n",
      "[1/4, 700/938] loss: 0.302\n",
      "[1/4, 800/938] loss: 0.321\n",
      "[1/4, 900/938] loss: 0.339\n",
      "[1/4, 938/938] loss: 0.345\n",
      "[2/4, 100/938] loss: 0.017\n",
      "[2/4, 200/938] loss: 0.034\n",
      "[2/4, 300/938] loss: 0.051\n",
      "[2/4, 400/938] loss: 0.067\n",
      "[2/4, 500/938] loss: 0.083\n",
      "[2/4, 600/938] loss: 0.097\n",
      "[2/4, 700/938] loss: 0.113\n",
      "[2/4, 800/938] loss: 0.128\n",
      "[2/4, 900/938] loss: 0.143\n",
      "[2/4, 938/938] loss: 0.148\n",
      "[3/4, 100/938] loss: 0.013\n",
      "[3/4, 200/938] loss: 0.027\n",
      "[3/4, 300/938] loss: 0.040\n",
      "[3/4, 400/938] loss: 0.053\n",
      "[3/4, 500/938] loss: 0.067\n",
      "[3/4, 600/938] loss: 0.080\n",
      "[3/4, 700/938] loss: 0.093\n",
      "[3/4, 800/938] loss: 0.105\n",
      "[3/4, 900/938] loss: 0.119\n",
      "[3/4, 938/938] loss: 0.123\n",
      "[4/4, 100/938] loss: 0.012\n",
      "[4/4, 200/938] loss: 0.022\n",
      "[4/4, 300/938] loss: 0.034\n",
      "[4/4, 400/938] loss: 0.045\n",
      "[4/4, 500/938] loss: 0.056\n",
      "[4/4, 600/938] loss: 0.068\n",
      "[4/4, 700/938] loss: 0.078\n",
      "[4/4, 800/938] loss: 0.089\n",
      "[4/4, 900/938] loss: 0.099\n",
      "[4/4, 938/938] loss: 0.103\n",
      "Training Finished.\n",
      "\n",
      "Accuracy of the network on the 10000 test images: 94 %\n",
      "Accuracy of 0: 0.960526\n",
      "Accuracy of 1: 0.978378\n",
      "Accuracy of 2: 0.924419\n",
      "Accuracy of 3: 0.948718\n",
      "Accuracy of 4: 0.960452\n",
      "Accuracy of 5: 0.880952\n",
      "Accuracy of 6: 0.929688\n",
      "Accuracy of 7: 0.939024\n",
      "Accuracy of 8: 0.958042\n",
      "Accuracy of 9: 0.880240\n"
     ]
    }
   ],
   "source": [
    "# Parameters\n",
    "epochs = 4\n",
    "lr = 0.002\n",
    "loss = nn.NLLLoss()\n",
    "optimizer = optim.SGD(net.parameters(), lr=0.002, momentum=0.9)\n",
    "\n",
    "# Train\n",
    "print('Training on %d images' % trainSet.data.shape[0])\n",
    "training_loop(net, loss, optimizer, trainLoader, epochs)\n",
    "print('Training Finished.\\n')\n",
    "\n",
    "# Test\n",
    "correct, total, class_correct, class_total = evaluate_model(net, testLoader)\n",
    "print('Accuracy of the network on the %d test images: %d %%' % (testSet.data.shape[0], (100*correct / total)))\n",
    "for i in range(10):\n",
    "    print('Accuracy of %d: %3f' % (i, (class_correct[i]/class_total[i])))"
   ]
  },
  {
   "cell_type": "code",
   "execution_count": null,
   "id": "7f06850a",
   "metadata": {},
   "outputs": [],
   "source": []
  }
 ],
 "metadata": {
  "kernelspec": {
   "display_name": "base",
   "language": "python",
   "name": "python3"
  },
  "language_info": {
   "codemirror_mode": {
    "name": "ipython",
    "version": 3
   },
   "file_extension": ".py",
   "mimetype": "text/x-python",
   "name": "python",
   "nbconvert_exporter": "python",
   "pygments_lexer": "ipython3",
   "version": "3.9.13"
  }
 },
 "nbformat": 4,
 "nbformat_minor": 5
}
