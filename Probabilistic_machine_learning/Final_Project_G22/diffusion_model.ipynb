{
 "cells": [
  {
   "cell_type": "code",
   "execution_count": 84,
   "id": "6ea44cf1-1826-4ad0-a6d4-069050815a2f",
   "metadata": {
    "executionInfo": {
     "elapsed": 3500,
     "status": "ok",
     "timestamp": 1673556253553,
     "user": {
      "displayName": "Xinting Huang",
      "userId": "12410163344152279257"
     },
     "user_tz": -60
    },
    "id": "6ea44cf1-1826-4ad0-a6d4-069050815a2f"
   },
   "outputs": [],
   "source": [
    "import torch\n",
    "import torch.utils.data\n",
    "from torch import nn, optim\n",
    "from torch.nn import functional as F\n",
    "from torchvision import datasets, transforms\n",
    "from torchvision.utils import save_image\n",
    "import numpy as np\n",
    "import random\n",
    "import matplotlib.pyplot as plt\n",
    "from tqdm import tqdm"
   ]
  },
  {
   "cell_type": "code",
   "execution_count": 85,
   "id": "3c00bd35-c147-431c-88e1-b4e5ecbb6a5d",
   "metadata": {
    "colab": {
     "base_uri": "https://localhost:8080/",
     "height": 436,
     "referenced_widgets": [
      "151858a0aeeb4a53b98f2296765aeaa3",
      "e60561e7716d431fac766843b096608b",
      "7461e40a4e424c11b6e8764dac313c25",
      "b59d984d30ab4665b8d696aef82f2333",
      "704d861dc8984137b58eddcdc781bcbc",
      "e403b4787ad842fd8d36af8edff2d47b",
      "4e8920a7513941b1b4485ee4cee7b9d1",
      "96fbf691c2cd4733b876e0be02b95e58",
      "3b259df919d7439dbc3e4944a39c5461",
      "465e5a1586c7458d840cc7951b5dba3f",
      "2f7d90ffef034401af148a5788be643c",
      "f621c9a18b214abda7dc64b5228bda39",
      "c3a539150a5045119a44f9c7ca74b844",
      "a14fe60adeee49eb813199f614fd96f2",
      "53489b81238048f08400f2a21147d2ef",
      "bd488c52f6a948eaab4e89cc151ad609",
      "ce71e1760bba4c90bc437d76c9058361",
      "129ece425d5343f78dc0625256652e61",
      "ab07bb79cba24a5ea933315c7b59991f",
      "5202df7af9194ec3bc33b6c6aaa48fca",
      "cbb53ded27f64e5eace028c5c210294c",
      "b720ab15c9584328bc90c1498d9e13b9",
      "a98f2a8568ed4d73bdb41c85b9cc0042",
      "1d522a7abd084a1f8a3de0f7d994401c",
      "3db9aa3192564e2f8fc29e4ad5a83169",
      "8d5d6453f24e49de82940a384e221200",
      "3a852102cf5548b7a51411455b89a17f",
      "aa95b7445cf04943ad2a4c7d27958e16",
      "ecb6bf9ab43b4049b13d6376c0c1f6d6",
      "551f9c65b3a44e9c83b8039fe09d13e9",
      "7e19b4d540a64644843c1df2f4659442",
      "9f3589f2526544879fd5614e2670147c",
      "afd3fc6cc7d24d80b119ff2588d1813d",
      "fce6633d46724e0ea8549f52eef96498",
      "5cfa188e7cb8485e8533f3d44d29d43f",
      "d3218e9c382748b193f2725b40d36f31",
      "40be0716f90f41c4ae50cb83de2f61d8",
      "6c585d1d3d574cb99191e3bbb8f21c0f",
      "5dd5a15c7c3742e2b69540b4c85da4d2",
      "325665395c0f44e6a723fa30ab27ebdd",
      "b34c85bfdced4d6b9fc9ab96dc24fef6",
      "75fcbb2c90e44e8487ad8238773ffc0b",
      "80bb62d4b6c840c3b1016593502af014",
      "2fbbb4e422c94de38ceec554221224e3"
     ]
    },
    "executionInfo": {
     "elapsed": 35,
     "status": "ok",
     "timestamp": 1673556254474,
     "user": {
      "displayName": "Xinting Huang",
      "userId": "12410163344152279257"
     },
     "user_tz": -60
    },
    "id": "3c00bd35-c147-431c-88e1-b4e5ecbb6a5d",
    "outputId": "6d74a3a6-1933-45da-817f-9c2cf8e62781"
   },
   "outputs": [],
   "source": [
    "cuda = torch.cuda.is_available() #GPU\n",
    "batch_size = 32\n",
    "epochs2 = 50\n",
    "\n",
    "torch.manual_seed(1) # args.seed\n",
    "\n",
    "device = torch.device(\"cuda\" if cuda else \"cpu\") # args.cuda\n",
    "kwargs = {'num_workers': 1, 'pin_memory': True} if cuda else {} # args.cuda\n",
    "\n",
    "# Get train and test data\n",
    "train_loader = torch.utils.data.DataLoader(\n",
    "    datasets.MNIST('../data', train=True, download=True,\n",
    "                   transform=transforms.ToTensor()),\n",
    "    batch_size=batch_size, shuffle=True, **kwargs)\n",
    "test_loader = torch.utils.data.DataLoader(\n",
    "    datasets.MNIST('../data', train=False, transform=transforms.ToTensor()),\n",
    "    batch_size=batch_size, shuffle=True, **kwargs)"
   ]
  },
  {
   "cell_type": "code",
   "execution_count": 86,
   "id": "e02cda47-3e54-4f42-9334-7a7a935707c7",
   "metadata": {
    "executionInfo": {
     "elapsed": 17,
     "status": "ok",
     "timestamp": 1673556254476,
     "user": {
      "displayName": "Xinting Huang",
      "userId": "12410163344152279257"
     },
     "user_tz": -60
    },
    "id": "e02cda47-3e54-4f42-9334-7a7a935707c7"
   },
   "outputs": [],
   "source": [
    "#global setting\n",
    "T = 500\n",
    "# beta = np.linspace(0.01, 0.03, T)\n",
    "beta = 0.01*np.ones((T,))\n",
    "alpha = 1 - beta\n",
    "alpha_bar = np.cumprod(alpha,0)\n",
    "sqrt_alpha_bar = np.sqrt(alpha_bar)\n",
    "\n",
    "def forward_process(x_0, t):\n",
    "    noise = np.random.multivariate_normal(np.zeros(28*28),np.eye(28*28)).reshape(28,28) # Sample noise from multivariate normal distribution with same size of X_0\n",
    "    noise_image = x_0 * sqrt_alpha_bar[t-1] + noise * np.sqrt(1-alpha_bar[t-1])\n",
    "    return noise, noise_image\n"
   ]
  },
  {
   "cell_type": "code",
   "execution_count": 87,
   "id": "8fe5dc86",
   "metadata": {
    "colab": {
     "base_uri": "https://localhost:8080/"
    },
    "executionInfo": {
     "elapsed": 17,
     "status": "ok",
     "timestamp": 1673556254478,
     "user": {
      "displayName": "Xinting Huang",
      "userId": "12410163344152279257"
     },
     "user_tz": -60
    },
    "id": "8fe5dc86",
    "outputId": "195af5f9-2218-4e8f-9192-3a168636c47b"
   },
   "outputs": [
    {
     "data": {
      "text/plain": [
       "array([[0.62982363],\n",
       "       [0.2448653 ],\n",
       "       [0.28470777],\n",
       "       [0.18295652],\n",
       "       [0.52559649]])"
      ]
     },
     "execution_count": 87,
     "metadata": {},
     "output_type": "execute_result"
    }
   ],
   "source": [
    "t = torch.randint(0,200,(5,1))\n",
    "alpha_bar[t]"
   ]
  },
  {
   "cell_type": "code",
   "execution_count": 88,
   "id": "7b9de365-4295-4748-9a77-1b37de509c1e",
   "metadata": {
    "colab": {
     "base_uri": "https://localhost:8080/",
     "height": 231
    },
    "executionInfo": {
     "elapsed": 2238,
     "status": "ok",
     "timestamp": 1673556256702,
     "user": {
      "displayName": "Xinting Huang",
      "userId": "12410163344152279257"
     },
     "user_tz": -60
    },
    "id": "7b9de365-4295-4748-9a77-1b37de509c1e",
    "outputId": "e482cc08-1214-455f-e755-e3232447c757"
   },
   "outputs": [
    {
     "data": {
      "image/png": "[encoded data removed]",
      "text/plain": [
       "<Figure size 1500x3000 with 4 Axes>"
      ]
     },
     "metadata": {},
     "output_type": "display_data"
    }
   ],
   "source": [
    "sample_mnist = next(iter(train_loader.dataset))[0]\n",
    "\n",
    "fig = plt.figure(figsize=(15, 30))\n",
    "\n",
    "for index, i in enumerate([10, 100, 150, 200]):\n",
    "    noise, noise_image = forward_process(sample_mnist.squeeze(),i)\n",
    "    plt.subplot(1, 4, index+1)\n",
    "    plt.imshow(noise_image.squeeze(), cmap='gray')\n",
    "plt.savefig(\"diffusion1\")   \n",
    "plt.show()"
   ]
  },
  {
   "cell_type": "code",
   "execution_count": 89,
   "id": "9cc300a0",
   "metadata": {
    "colab": {
     "base_uri": "https://localhost:8080/",
     "height": 313
    },
    "executionInfo": {
     "elapsed": 9,
     "status": "ok",
     "timestamp": 1673556256702,
     "user": {
      "displayName": "Xinting Huang",
      "userId": "12410163344152279257"
     },
     "user_tz": -60
    },
    "id": "9cc300a0",
    "outputId": "d4eab46c-e25f-4a94-f693-8eb159d26101"
   },
   "outputs": [
    {
     "data": {
      "text/plain": [
       "Text(0.5, 1.0, 'Alphas bar over t')"
      ]
     },
     "execution_count": 89,
     "metadata": {},
     "output_type": "execute_result"
    },
    {
     "data": {
      "image/png": "[encoded data removed]",
      "text/plain": [
       "<Figure size 640x480 with 1 Axes>"
      ]
     },
     "metadata": {},
     "output_type": "display_data"
    }
   ],
   "source": [
    "plt.plot(alpha_bar)\n",
    "plt.ylabel(\"alpha\")\n",
    "plt.xlabel(\"t\")\n",
    "plt.title(\"Alphas bar over t\")"
   ]
  },
  {
   "cell_type": "code",
   "execution_count": 7,
   "id": "EBesrz_s-iGM",
   "metadata": {
    "executionInfo": {
     "elapsed": 4407,
     "status": "ok",
     "timestamp": 1673556261103,
     "user": {
      "displayName": "Xinting Huang",
      "userId": "12410163344152279257"
     },
     "user_tz": -60
    },
    "id": "EBesrz_s-iGM"
   },
   "outputs": [],
   "source": [
    "beta = torch.from_numpy(beta).to(device).float()\n",
    "alpha_bar = torch.from_numpy(alpha_bar).to(device).float()"
   ]
  },
  {
   "cell_type": "code",
   "execution_count": 74,
   "id": "47dd14fa-26e1-40ee-a38e-a8cea3c57aca",
   "metadata": {
    "executionInfo": {
     "elapsed": 9,
     "status": "ok",
     "timestamp": 1673556261104,
     "user": {
      "displayName": "Xinting Huang",
      "userId": "12410163344152279257"
     },
     "user_tz": -60
    },
    "id": "47dd14fa-26e1-40ee-a38e-a8cea3c57aca"
   },
   "outputs": [],
   "source": [
    "from matplotlib.font_manager import X11FontDirectories\n",
    "# neural network to learn epsilon(x_t,t). you can pla around with it, but we added it for convenience\n",
    "# class DDPM(nn.Module):\n",
    "#     def __init__(self):\n",
    "#         super(DDPM, self).__init__()\n",
    "#         self.t_emb_dim = 100\n",
    "#         self.encConv1 = nn.Conv2d(1, 16, 5)\n",
    "#         self.encConv2 = nn.Conv2d(16, 32, 5) # output torch size = [128, 32, 20, 20]\n",
    "#         self.fc1 = nn.Linear(32*20*20, 32)\n",
    "#         self.fct = nn.Linear(self.t_emb_dim, 32)\n",
    "#         self.fc3 = nn.Linear(32, 32*20*20)\n",
    "#         self.decConv1 = nn.ConvTranspose2d(32,16,5)\n",
    "#         self.decConv2 = nn.ConvTranspose2d(16, 1, 5)\n",
    "\n",
    "#     def forward(self, x,t):\n",
    "#         #we use a time-embedding here. neural networks are terrible at working directly with time as a real variable.\n",
    "#         #we therefore replace it by a set of features t_embedding that just represent several sine waves with different\n",
    "#         #frequency\n",
    "#         omegas = 2*np.pi*(torch.arange(self.t_emb_dim) / T).reshape(1,-1).to(device)\n",
    "#         t_embedding = torch.cos(omegas*t.reshape(-1,1))\n",
    "#         #Network structure: a simple network with two hidden layers. the first\n",
    "#         # two fully connected laers are just there to merge the time embedding with the input vector\n",
    "#         x = F.relu(self.encConv1(x))\n",
    "#         x = F.relu(self.encConv2(x))\n",
    "#         x = torch.flatten(x,1)\n",
    "#         x = F.relu(self.fc1(x)+self.fct(t_embedding))\n",
    "#         x = F.relu(self.fc3(x))\n",
    "#         x = x.view(-1,32,20,20)\n",
    "#         x = F.relu(self.decConv1(x))\n",
    "#         return torch.sigmoid(self.decConv2(x))\n",
    "\n",
    "class DDPM(nn.Module):\n",
    "    def __init__(self):\n",
    "        super(DDPM, self).__init__()\n",
    "        self.t_emb_dim = 100\n",
    "        self.fc1 = nn.Linear(28*28, 1000)\n",
    "        self.fct = nn.Linear(self.t_emb_dim, 1000)\n",
    "        self.block = nn.Sequential(nn.Linear(1000, 1000),\n",
    "                      nn.ReLU(),\n",
    "                      nn.Linear(1000, 1000),\n",
    "                      nn.ReLU(),\n",
    "                      nn.Linear(1000, 28*28))\n",
    "\n",
    "    def forward(self, x,t):\n",
    "        #we use a time-embedding here. neural networks are terrible at working directly with time as a real variable.\n",
    "        #we therefore replace it by a set of features t_embedding that just represent several sine waves with different\n",
    "        #frequency\n",
    "        omegas = 2*np.pi*(torch.arange(self.t_emb_dim) / T).reshape(1,-1).to(device)\n",
    "        t_embedding = torch.cos(omegas * t.reshape(-1,1))\n",
    "        #Network structure: a simple network with two hidden layers. the first\n",
    "        # two fully connected laers are just there to merge the time embedding with the input vector\n",
    "        x = torch.flatten(x, 1)\n",
    "        x = F.relu(self.fc1(x)+self.fct(t_embedding))\n",
    "        x = self.block(x)\n",
    "        return x.view(-1, 1, 28, 28)\n",
    "\n",
    "# class DDPM(nn.Module):\n",
    "#     def __init__(self):\n",
    "#         super(DDPM, self).__init__()\n",
    "#         self.t_emb_dim = 100\n",
    "#         self.block1 = nn.Sequential(nn.Conv2d(1, 32, 5, padding=2),\n",
    "#                       nn.BatchNorm2d(32),\n",
    "#                       nn.ReLU(),\n",
    "#                       nn.Conv2d(32, 64, 5, padding=2))\n",
    "#         self.fct = nn.Linear(self.t_emb_dim, 64)\n",
    "#         self.block2 = nn.Sequential(nn.BatchNorm2d(64),\n",
    "#                       nn.ReLU(),\n",
    "#                       nn.Conv2d(64, 32, 5, padding=2),\n",
    "#                       nn.BatchNorm2d(32),\n",
    "#                       nn.ReLU(),\n",
    "#                       nn.Conv2d(32, 1, 5, padding=2))\n",
    "\n",
    "#     def forward(self, x,t):\n",
    "#         omegas = 2*np.pi*(torch.arange(self.t_emb_dim) / T).reshape(1,-1).to(device)\n",
    "#         t_embedding = torch.cos(omegas*t.reshape(-1,1))\n",
    "#         x = self.block1(x)\n",
    "#         x += self.fct(t_embedding).view(-1, 64, 1, 1) # add same value for the whole channel\n",
    "#         x = self.block2(x)\n",
    "#         return x"
   ]
  },
  {
   "cell_type": "code",
   "execution_count": 75,
   "id": "a7cd8040",
   "metadata": {
    "executionInfo": {
     "elapsed": 8,
     "status": "ok",
     "timestamp": 1673556261104,
     "user": {
      "displayName": "Xinting Huang",
      "userId": "12410163344152279257"
     },
     "user_tz": -60
    },
    "id": "a7cd8040"
   },
   "outputs": [],
   "source": [
    "# def loss_f(Xs, model):\n",
    "#     T= 200\n",
    "#     beta = torch.linspace(0.0001, 0.02, T)\n",
    "#     alpha = 1 - beta\n",
    "#     alpha_bar = torch.cumprod(alpha,0).to(device)\n",
    "\n",
    "#     batch_size = Xs.size(0)\n",
    "#     t = torch.randint(0,200,(10,1)).expand(batch_size,10,1).reshape(batch_size*10,1)\n",
    "#     Xs = Xs.expand(10,batch_size,-1,28,28).reshape(batch_size*10,28*28)\n",
    "#     epsilon_t = torch.randn(Xs.shape).to(device)\n",
    "#     X_t = (torch.sqrt(alpha_bar[t])*Xs+torch.sqrt(1-alpha_bar[t])*epsilon_t).reshape(batch_size*10,1,28,28)\n",
    "#     loss = torch.mean(torch.sum((epsilon_t.reshape(-1,1,28,28)-model(X_t,t))**2,-1))\n",
    "#     return loss\n",
    "\n",
    "def loss_f(Xs, model, beta, alpha_bar):\n",
    "    T= len(beta)\n",
    "    batch_size = Xs.shape[0]\n",
    "    t = torch.randint(0,T,(batch_size,1, 1, 1)).to(device)\n",
    "    epsilon_t = torch.randn(Xs.size()).to(device)\n",
    "    X_t = torch.sqrt(alpha_bar[t])*Xs + torch.sqrt(1-alpha_bar[t])*epsilon_t\n",
    "    loss = torch.mean(torch.sum( ((epsilon_t - model(X_t, t))**2).view(batch_size, -1),-1))\n",
    "    return loss"
   ]
  },
  {
   "cell_type": "code",
   "execution_count": 76,
   "id": "8f6d6854-3f30-4eaf-8a5e-261e1495b4e2",
   "metadata": {
    "executionInfo": {
     "elapsed": 8,
     "status": "ok",
     "timestamp": 1673556261105,
     "user": {
      "displayName": "Xinting Huang",
      "userId": "12410163344152279257"
     },
     "user_tz": -60
    },
    "id": "8f6d6854-3f30-4eaf-8a5e-261e1495b4e2"
   },
   "outputs": [],
   "source": [
    "def train(epoch, beta, alpha_bar):\n",
    "    model.train() # so that everything has gradients and we can do backprop and so on...\n",
    "    train_loss = 0\n",
    "    for batch_idx, (data, _) in enumerate(tqdm(train_loader,leave=False)):\n",
    "        data = data.to(device)\n",
    "        optimizer.zero_grad() # \"reset\" gradients to 0 for text iteration\n",
    "        loss = loss_f(data, model, beta, alpha_bar)\n",
    "        loss.backward() # calc gradients\n",
    "        # print(torch.linalg.norm(model.fc1.weight.grad))\n",
    "        train_loss += loss.item()\n",
    "        optimizer.step() # backpropagation\n",
    "\n",
    "    print('====> Epoch: {} Average loss: {:.10f}'.format(\n",
    "          epoch, train_loss / len(train_loader.dataset)))\n",
    "\n",
    "\n",
    "def test(epoch, beta, alpha_bar):\n",
    "    model.eval()\n",
    "    test_loss = 0\n",
    "    with torch.no_grad(): # no_grad turns of gradients...\n",
    "        for i, (data, _) in enumerate(test_loader):\n",
    "            data = data.to(device)\n",
    "            test_loss += loss_f(data, model, beta, alpha_bar).item()\n",
    "\n",
    "    test_loss /= len(test_loader.dataset)\n",
    "    \n",
    "    print('====> Test set loss: {:.10f}'.format(test_loss))"
   ]
  },
  {
   "cell_type": "code",
   "execution_count": 77,
   "id": "98d9c6c1-8d59-4b13-8bea-9975edcd6751",
   "metadata": {
    "colab": {
     "base_uri": "https://localhost:8080/"
    },
    "executionInfo": {
     "elapsed": 907893,
     "status": "ok",
     "timestamp": 1673557168990,
     "user": {
      "displayName": "Xinting Huang",
      "userId": "12410163344152279257"
     },
     "user_tz": -60
    },
    "id": "98d9c6c1-8d59-4b13-8bea-9975edcd6751",
    "outputId": "6c8b4116-57b5-49a7-9608-6ebc7c3d468a"
   },
   "outputs": [
    {
     "name": "stderr",
     "output_type": "stream",
     "text": [
      "                                                    \r"
     ]
    },
    {
     "name": "stdout",
     "output_type": "stream",
     "text": [
      "====> Epoch: 1 Average loss: 19.0358752950\n",
      "====> Test set loss: 14.5818892181\n"
     ]
    },
    {
     "name": "stderr",
     "output_type": "stream",
     "text": [
      "                                                    \r"
     ]
    },
    {
     "name": "stdout",
     "output_type": "stream",
     "text": [
      "====> Epoch: 2 Average loss: 12.4894440679\n",
      "====> Test set loss: 10.8420428101\n"
     ]
    },
    {
     "name": "stderr",
     "output_type": "stream",
     "text": [
      "                                                    \r"
     ]
    },
    {
     "name": "stdout",
     "output_type": "stream",
     "text": [
      "====> Epoch: 3 Average loss: 9.8211469594\n",
      "====> Test set loss: 8.9609573700\n"
     ]
    },
    {
     "name": "stderr",
     "output_type": "stream",
     "text": [
      "                                                    \r"
     ]
    },
    {
     "name": "stdout",
     "output_type": "stream",
     "text": [
      "====> Epoch: 4 Average loss: 8.2522399610\n",
      "====> Test set loss: 7.6287043213\n"
     ]
    },
    {
     "name": "stderr",
     "output_type": "stream",
     "text": [
      "                                                    \r"
     ]
    },
    {
     "name": "stdout",
     "output_type": "stream",
     "text": [
      "====> Epoch: 5 Average loss: 7.1550265450\n",
      "====> Test set loss: 6.7789391556\n"
     ]
    },
    {
     "name": "stderr",
     "output_type": "stream",
     "text": [
      "                                                    \r"
     ]
    },
    {
     "name": "stdout",
     "output_type": "stream",
     "text": [
      "====> Epoch: 6 Average loss: 6.3713589101\n",
      "====> Test set loss: 6.0769740646\n"
     ]
    },
    {
     "name": "stderr",
     "output_type": "stream",
     "text": [
      "                                                    \r"
     ]
    },
    {
     "name": "stdout",
     "output_type": "stream",
     "text": [
      "====> Epoch: 7 Average loss: 5.7469616147\n",
      "====> Test set loss: 5.4969393631\n"
     ]
    },
    {
     "name": "stderr",
     "output_type": "stream",
     "text": [
      "                                                    \r"
     ]
    },
    {
     "name": "stdout",
     "output_type": "stream",
     "text": [
      "====> Epoch: 8 Average loss: 5.2677364230\n",
      "====> Test set loss: 5.0746131668\n"
     ]
    },
    {
     "name": "stderr",
     "output_type": "stream",
     "text": [
      "                                                    \r"
     ]
    },
    {
     "name": "stdout",
     "output_type": "stream",
     "text": [
      "====> Epoch: 9 Average loss: 4.8564066149\n",
      "====> Test set loss: 4.6854506470\n"
     ]
    },
    {
     "name": "stderr",
     "output_type": "stream",
     "text": [
      "                                                    \r"
     ]
    },
    {
     "name": "stdout",
     "output_type": "stream",
     "text": [
      "====> Epoch: 10 Average loss: 4.4879638935\n",
      "====> Test set loss: 4.3695302353\n"
     ]
    },
    {
     "name": "stderr",
     "output_type": "stream",
     "text": [
      "                                                    \r"
     ]
    },
    {
     "name": "stdout",
     "output_type": "stream",
     "text": [
      "====> Epoch: 11 Average loss: 4.1993143050\n",
      "====> Test set loss: 4.0739184120\n"
     ]
    },
    {
     "name": "stderr",
     "output_type": "stream",
     "text": [
      "                                                    \r"
     ]
    },
    {
     "name": "stdout",
     "output_type": "stream",
     "text": [
      "====> Epoch: 12 Average loss: 3.9322952988\n",
      "====> Test set loss: 3.8448319214\n"
     ]
    },
    {
     "name": "stderr",
     "output_type": "stream",
     "text": [
      "                                                    \r"
     ]
    },
    {
     "name": "stdout",
     "output_type": "stream",
     "text": [
      "====> Epoch: 13 Average loss: 3.7483874325\n",
      "====> Test set loss: 3.6616611519\n"
     ]
    },
    {
     "name": "stderr",
     "output_type": "stream",
     "text": [
      "                                                    \r"
     ]
    },
    {
     "name": "stdout",
     "output_type": "stream",
     "text": [
      "====> Epoch: 14 Average loss: 3.5626360414\n",
      "====> Test set loss: 3.5104102890\n"
     ]
    },
    {
     "name": "stderr",
     "output_type": "stream",
     "text": [
      "                                                    \r"
     ]
    },
    {
     "name": "stdout",
     "output_type": "stream",
     "text": [
      "====> Epoch: 15 Average loss: 3.3889437871\n",
      "====> Test set loss: 3.2786185059\n"
     ]
    },
    {
     "name": "stderr",
     "output_type": "stream",
     "text": [
      "                                                    \r"
     ]
    },
    {
     "name": "stdout",
     "output_type": "stream",
     "text": [
      "====> Epoch: 16 Average loss: 3.2098415915\n",
      "====> Test set loss: 3.1495953514\n"
     ]
    },
    {
     "name": "stderr",
     "output_type": "stream",
     "text": [
      "                                                    \r"
     ]
    },
    {
     "name": "stdout",
     "output_type": "stream",
     "text": [
      "====> Epoch: 17 Average loss: 3.0907611553\n",
      "====> Test set loss: 2.9620773102\n"
     ]
    },
    {
     "name": "stderr",
     "output_type": "stream",
     "text": [
      "                                                    \r"
     ]
    },
    {
     "name": "stdout",
     "output_type": "stream",
     "text": [
      "====> Epoch: 18 Average loss: 2.9662598461\n",
      "====> Test set loss: 2.9377974838\n"
     ]
    },
    {
     "name": "stderr",
     "output_type": "stream",
     "text": [
      "                                                    \r"
     ]
    },
    {
     "name": "stdout",
     "output_type": "stream",
     "text": [
      "====> Epoch: 19 Average loss: 2.8879985257\n",
      "====> Test set loss: 2.8254890774\n"
     ]
    },
    {
     "name": "stderr",
     "output_type": "stream",
     "text": [
      "                                                    \r"
     ]
    },
    {
     "name": "stdout",
     "output_type": "stream",
     "text": [
      "====> Epoch: 20 Average loss: 2.7757030910\n",
      "====> Test set loss: 2.6995439400\n"
     ]
    },
    {
     "name": "stderr",
     "output_type": "stream",
     "text": [
      "                                                    \r"
     ]
    },
    {
     "name": "stdout",
     "output_type": "stream",
     "text": [
      "====> Epoch: 21 Average loss: 2.6722731471\n",
      "====> Test set loss: 2.6558732166\n"
     ]
    },
    {
     "name": "stderr",
     "output_type": "stream",
     "text": [
      "                                                    \r"
     ]
    },
    {
     "name": "stdout",
     "output_type": "stream",
     "text": [
      "====> Epoch: 22 Average loss: 2.5884713130\n",
      "====> Test set loss: 2.5590351097\n"
     ]
    },
    {
     "name": "stderr",
     "output_type": "stream",
     "text": [
      "                                                    \r"
     ]
    },
    {
     "name": "stdout",
     "output_type": "stream",
     "text": [
      "====> Epoch: 23 Average loss: 2.4825258715\n",
      "====> Test set loss: 2.4558178989\n"
     ]
    },
    {
     "name": "stderr",
     "output_type": "stream",
     "text": [
      "                                                    \r"
     ]
    },
    {
     "name": "stdout",
     "output_type": "stream",
     "text": [
      "====> Epoch: 24 Average loss: 2.4213281160\n",
      "====> Test set loss: 2.3931802113\n"
     ]
    },
    {
     "name": "stderr",
     "output_type": "stream",
     "text": [
      "                                                    \r"
     ]
    },
    {
     "name": "stdout",
     "output_type": "stream",
     "text": [
      "====> Epoch: 25 Average loss: 2.3663709440\n",
      "====> Test set loss: 2.3731836975\n"
     ]
    },
    {
     "name": "stderr",
     "output_type": "stream",
     "text": [
      "                                                    \r"
     ]
    },
    {
     "name": "stdout",
     "output_type": "stream",
     "text": [
      "====> Epoch: 26 Average loss: 2.2968065821\n",
      "====> Test set loss: 2.3116364628\n"
     ]
    },
    {
     "name": "stderr",
     "output_type": "stream",
     "text": [
      "                                                    \r"
     ]
    },
    {
     "name": "stdout",
     "output_type": "stream",
     "text": [
      "====> Epoch: 27 Average loss: 2.2513155910\n",
      "====> Test set loss: 2.2222920372\n"
     ]
    },
    {
     "name": "stderr",
     "output_type": "stream",
     "text": [
      "                                                    \r"
     ]
    },
    {
     "name": "stdout",
     "output_type": "stream",
     "text": [
      "====> Epoch: 28 Average loss: 2.1870004625\n",
      "====> Test set loss: 2.1583267757\n"
     ]
    },
    {
     "name": "stderr",
     "output_type": "stream",
     "text": [
      "                                                    \r"
     ]
    },
    {
     "name": "stdout",
     "output_type": "stream",
     "text": [
      "====> Epoch: 29 Average loss: 2.1322066775\n",
      "====> Test set loss: 2.0938875587\n"
     ]
    },
    {
     "name": "stderr",
     "output_type": "stream",
     "text": [
      "                                                    \r"
     ]
    },
    {
     "name": "stdout",
     "output_type": "stream",
     "text": [
      "====> Epoch: 30 Average loss: 2.0927655408\n",
      "====> Test set loss: 2.1093197620\n"
     ]
    },
    {
     "name": "stderr",
     "output_type": "stream",
     "text": [
      "                                                    \r"
     ]
    },
    {
     "name": "stdout",
     "output_type": "stream",
     "text": [
      "====> Epoch: 31 Average loss: 2.0698964043\n",
      "====> Test set loss: 2.0816546680\n"
     ]
    },
    {
     "name": "stderr",
     "output_type": "stream",
     "text": [
      "                                                    \r"
     ]
    },
    {
     "name": "stdout",
     "output_type": "stream",
     "text": [
      "====> Epoch: 32 Average loss: 2.0455354268\n",
      "====> Test set loss: 2.0269254616\n"
     ]
    },
    {
     "name": "stderr",
     "output_type": "stream",
     "text": [
      "                                                    \r"
     ]
    },
    {
     "name": "stdout",
     "output_type": "stream",
     "text": [
      "====> Epoch: 33 Average loss: 1.9835850346\n",
      "====> Test set loss: 1.9130834553\n"
     ]
    },
    {
     "name": "stderr",
     "output_type": "stream",
     "text": [
      "                                                    \r"
     ]
    },
    {
     "name": "stdout",
     "output_type": "stream",
     "text": [
      "====> Epoch: 34 Average loss: 1.9484081114\n",
      "====> Test set loss: 1.8466304657\n"
     ]
    },
    {
     "name": "stderr",
     "output_type": "stream",
     "text": [
      "                                                    \r"
     ]
    },
    {
     "name": "stdout",
     "output_type": "stream",
     "text": [
      "====> Epoch: 35 Average loss: 1.9165558927\n",
      "====> Test set loss: 1.8864580898\n"
     ]
    },
    {
     "name": "stderr",
     "output_type": "stream",
     "text": [
      "                                                    \r"
     ]
    },
    {
     "name": "stdout",
     "output_type": "stream",
     "text": [
      "====> Epoch: 36 Average loss: 1.8569369293\n",
      "====> Test set loss: 1.7673639801\n"
     ]
    },
    {
     "name": "stderr",
     "output_type": "stream",
     "text": [
      "                                                    \r"
     ]
    },
    {
     "name": "stdout",
     "output_type": "stream",
     "text": [
      "====> Epoch: 37 Average loss: 1.8549072228\n",
      "====> Test set loss: 1.8194527481\n"
     ]
    },
    {
     "name": "stderr",
     "output_type": "stream",
     "text": [
      "                                                    \r"
     ]
    },
    {
     "name": "stdout",
     "output_type": "stream",
     "text": [
      "====> Epoch: 38 Average loss: 1.8077752716\n",
      "====> Test set loss: 1.7628224524\n"
     ]
    },
    {
     "name": "stderr",
     "output_type": "stream",
     "text": [
      "                                                    \r"
     ]
    },
    {
     "name": "stdout",
     "output_type": "stream",
     "text": [
      "====> Epoch: 39 Average loss: 1.7784459533\n",
      "====> Test set loss: 1.8019611870\n"
     ]
    },
    {
     "name": "stderr",
     "output_type": "stream",
     "text": [
      "                                                    \r"
     ]
    },
    {
     "name": "stdout",
     "output_type": "stream",
     "text": [
      "====> Epoch: 40 Average loss: 1.7467592119\n",
      "====> Test set loss: 1.7568543463\n"
     ]
    },
    {
     "name": "stderr",
     "output_type": "stream",
     "text": [
      "                                                    \r"
     ]
    },
    {
     "name": "stdout",
     "output_type": "stream",
     "text": [
      "====> Epoch: 41 Average loss: 1.7306063529\n",
      "====> Test set loss: 1.7225196795\n"
     ]
    },
    {
     "name": "stderr",
     "output_type": "stream",
     "text": [
      "                                                    \r"
     ]
    },
    {
     "name": "stdout",
     "output_type": "stream",
     "text": [
      "====> Epoch: 42 Average loss: 1.7067861404\n",
      "====> Test set loss: 1.7072390388\n"
     ]
    },
    {
     "name": "stderr",
     "output_type": "stream",
     "text": [
      "                                                    \r"
     ]
    },
    {
     "name": "stdout",
     "output_type": "stream",
     "text": [
      "====> Epoch: 43 Average loss: 1.7169683086\n",
      "====> Test set loss: 1.6605479965\n"
     ]
    },
    {
     "name": "stderr",
     "output_type": "stream",
     "text": [
      "                                                    \r"
     ]
    },
    {
     "name": "stdout",
     "output_type": "stream",
     "text": [
      "====> Epoch: 44 Average loss: 1.7070973104\n",
      "====> Test set loss: 1.7063944227\n"
     ]
    },
    {
     "name": "stderr",
     "output_type": "stream",
     "text": [
      "                                                    \r"
     ]
    },
    {
     "name": "stdout",
     "output_type": "stream",
     "text": [
      "====> Epoch: 45 Average loss: 1.6806585720\n",
      "====> Test set loss: 1.6445063074\n"
     ]
    },
    {
     "name": "stderr",
     "output_type": "stream",
     "text": [
      "                                                    \r"
     ]
    },
    {
     "name": "stdout",
     "output_type": "stream",
     "text": [
      "====> Epoch: 46 Average loss: 1.6551129912\n",
      "====> Test set loss: 1.6730607132\n"
     ]
    },
    {
     "name": "stderr",
     "output_type": "stream",
     "text": [
      "                                                    \r"
     ]
    },
    {
     "name": "stdout",
     "output_type": "stream",
     "text": [
      "====> Epoch: 47 Average loss: 1.6493645885\n",
      "====> Test set loss: 1.6657024633\n"
     ]
    },
    {
     "name": "stderr",
     "output_type": "stream",
     "text": [
      "                                                    \r"
     ]
    },
    {
     "name": "stdout",
     "output_type": "stream",
     "text": [
      "====> Epoch: 48 Average loss: 1.6319121813\n",
      "====> Test set loss: 1.7021272665\n"
     ]
    },
    {
     "name": "stderr",
     "output_type": "stream",
     "text": [
      "                                                    \r"
     ]
    },
    {
     "name": "stdout",
     "output_type": "stream",
     "text": [
      "====> Epoch: 49 Average loss: 1.6064678772\n",
      "====> Test set loss: 1.5692285435\n"
     ]
    },
    {
     "name": "stderr",
     "output_type": "stream",
     "text": [
      "                                                    \r"
     ]
    },
    {
     "name": "stdout",
     "output_type": "stream",
     "text": [
      "====> Epoch: 50 Average loss: 1.6036544003\n",
      "====> Test set loss: 1.6404017326\n"
     ]
    }
   ],
   "source": [
    "model = DDPM().to(device)\n",
    "optimizer = optim.Adam(model.parameters(), lr=1e-4)\n",
    "for epoch in range(1, 50 + 1):\n",
    "    train(epoch, beta, alpha_bar)\n",
    "    test(epoch, beta, alpha_bar)"
   ]
  },
  {
   "cell_type": "code",
   "execution_count": 82,
   "id": "a0d1dc3c",
   "metadata": {
    "colab": {
     "base_uri": "https://localhost:8080/",
     "height": 162
    },
    "executionInfo": {
     "elapsed": 746,
     "status": "ok",
     "timestamp": 1673557169730,
     "user": {
      "displayName": "Xinting Huang",
      "userId": "12410163344152279257"
     },
     "user_tz": -60
    },
    "id": "a0d1dc3c",
    "outputId": "c8c63cdf-8e0b-426f-eaf0-d866694db831"
   },
   "outputs": [
    {
     "name": "stderr",
     "output_type": "stream",
     "text": [
      "C:\\Users\\Lenovo\\AppData\\Local\\Temp\\ipykernel_37400\\1419880940.py:21: UserWarning: Matplotlib is currently using module://matplotlib_inline.backend_inline, which is a non-GUI backend, so cannot show the figure.\n",
      "  fig.show()\n"
     ]
    },
    {
     "data": {
      "image/png": "[encoded data removed]",
      "text/plain": [
       "<Figure size 3000x3000 with 10 Axes>"
      ]
     },
     "metadata": {},
     "output_type": "display_data"
    }
   ],
   "source": [
    "def generate_samples(model, num, beta, alpha_bar):\n",
    "    T= len(beta)\n",
    "    with torch.no_grad():\n",
    "        Xs =  torch.normal(0.0,1.0,size=(num,1, 28, 28),dtype=torch.float32, device=device)\n",
    "        for t in reversed(range(T)):\n",
    "            eps_model = model(Xs, t*torch.ones(num).to(device))\n",
    "            std_model = beta[t] / torch.sqrt(1-alpha_bar[t])\n",
    "            mu = (Xs-eps_model*std_model)/torch.sqrt(1-beta[t])\n",
    "            Xs = mu + torch.normal(0., 1., size=(num, 1, 28, 28), device=device) * torch.sqrt(beta[t])\n",
    "    return Xs\n",
    "\n",
    "num = 10\n",
    "samples = generate_samples(model, num, beta, alpha_bar)\n",
    "\n",
    "fig, ax = plt.subplots(ncols=num)\n",
    "for i in range(10):\n",
    "    ax[i].imshow(samples[i].cpu().squeeze(),cmap='gray')\n",
    "\n",
    "fig.set_size_inches(30,30)\n",
    "plt.savefig(\"diffusion_model_generate_samples.png\")\n",
    "fig.show()\n",
    "\n",
    "# beta = 0.02: train loss 2.56\n",
    "# beta beta = np.linspace(0.00001, 0.02, T) loss: 6.52\n",
    "# beta beta = np.linspace(0.0001, 0.02, T) loss: 6.7\n",
    "# t_embed_dim=100 beta = 0.02 2.19\n",
    "# T=500 loss: 1.5"
   ]
  },
  {
   "cell_type": "code",
   "execution_count": 12,
   "id": "An5pkv1of6us",
   "metadata": {
    "executionInfo": {
     "elapsed": 11,
     "status": "ok",
     "timestamp": 1673557169731,
     "user": {
      "displayName": "Xinting Huang",
      "userId": "12410163344152279257"
     },
     "user_tz": -60
    },
    "id": "An5pkv1of6us"
   },
   "outputs": [],
   "source": []
  }
 ],
 "metadata": {
  "accelerator": "GPU",
  "colab": {
   "provenance": []
  },
  "gpuClass": "standard",
  "kernelspec": {
   "display_name": "Python 3 (ipykernel)",
   "language": "python",
   "name": "python3"
  },
  "language_info": {
   "codemirror_mode": {
    "name": "ipython",
    "version": 3
   },
   "file_extension": ".py",
   "mimetype": "text/x-python",
   "name": "python",
   "nbconvert_exporter": "python",
   "pygments_lexer": "ipython3",
   "version": "3.9.12"
  },
  "vscode": {
   "interpreter": {
    "hash": "57a1ef0225b9c32399b3376261c0abb9c99654190c039c0eedb27dda4ad5dfe0"
   }
  },
  "widgets": {
   "application/vnd.jupyter.widget-state+json": {
    "129ece425d5343f78dc0625256652e61": {
     "model_module": "@jupyter-widgets/controls",
     "model_module_version": "1.5.0",
     "model_name": "DescriptionStyleModel",
     "state": {
      "_model_module": "@jupyter-widgets/controls",
      "_model_module_version": "1.5.0",
      "_model_name": "DescriptionStyleModel",
      "_view_count": null,
      "_view_module": "@jupyter-widgets/base",
      "_view_module_version": "1.2.0",
      "_view_name": "StyleView",
      "description_width": ""
     }
    },
    "151858a0aeeb4a53b98f2296765aeaa3": {
     "model_module": "@jupyter-widgets/controls",
     "model_module_version": "1.5.0",
     "model_name": "HBoxModel",
     "state": {
      "_dom_classes": [],
      "_model_module": "@jupyter-widgets/controls",
      "_model_module_version": "1.5.0",
      "_model_name": "HBoxModel",
      "_view_count": null,
      "_view_module": "@jupyter-widgets/controls",
      "_view_module_version": "1.5.0",
      "_view_name": "HBoxView",
      "box_style": "",
      "children": [
       "IPY_MODEL_e60561e7716d431fac766843b096608b",
       "IPY_MODEL_7461e40a4e424c11b6e8764dac313c25",
       "IPY_MODEL_b59d984d30ab4665b8d696aef82f2333"
      ],
      "layout": "IPY_MODEL_704d861dc8984137b58eddcdc781bcbc"
     }
    },
    "1d522a7abd084a1f8a3de0f7d994401c": {
     "model_module": "@jupyter-widgets/controls",
     "model_module_version": "1.5.0",
     "model_name": "HTMLModel",
     "state": {
      "_dom_classes": [],
      "_model_module": "@jupyter-widgets/controls",
      "_model_module_version": "1.5.0",
      "_model_name": "HTMLModel",
      "_view_count": null,
      "_view_module": "@jupyter-widgets/controls",
      "_view_module_version": "1.5.0",
      "_view_name": "HTMLView",
      "description": "",
      "description_tooltip": null,
      "layout": "IPY_MODEL_aa95b7445cf04943ad2a4c7d27958e16",
      "placeholder": "​",
      "style": "IPY_MODEL_ecb6bf9ab43b4049b13d6376c0c1f6d6",
      "value": "100%"
     }
    },
    "2f7d90ffef034401af148a5788be643c": {
     "model_module": "@jupyter-widgets/controls",
     "model_module_version": "1.5.0",
     "model_name": "DescriptionStyleModel",
     "state": {
      "_model_module": "@jupyter-widgets/controls",
      "_model_module_version": "1.5.0",
      "_model_name": "DescriptionStyleModel",
      "_view_count": null,
      "_view_module": "@jupyter-widgets/base",
      "_view_module_version": "1.2.0",
      "_view_name": "StyleView",
      "description_width": ""
     }
    },
    "2fbbb4e422c94de38ceec554221224e3": {
     "model_module": "@jupyter-widgets/controls",
     "model_module_version": "1.5.0",
     "model_name": "DescriptionStyleModel",
     "state": {
      "_model_module": "@jupyter-widgets/controls",
      "_model_module_version": "1.5.0",
      "_model_name": "DescriptionStyleModel",
      "_view_count": null,
      "_view_module": "@jupyter-widgets/base",
      "_view_module_version": "1.2.0",
      "_view_name": "StyleView",
      "description_width": ""
     }
    },
    "325665395c0f44e6a723fa30ab27ebdd": {
     "model_module": "@jupyter-widgets/controls",
     "model_module_version": "1.5.0",
     "model_name": "DescriptionStyleModel",
     "state": {
      "_model_module": "@jupyter-widgets/controls",
      "_model_module_version": "1.5.0",
      "_model_name": "DescriptionStyleModel",
      "_view_count": null,
      "_view_module": "@jupyter-widgets/base",
      "_view_module_version": "1.2.0",
      "_view_name": "StyleView",
      "description_width": ""
     }
    },
    "3a852102cf5548b7a51411455b89a17f": {
     "model_module": "@jupyter-widgets/base",
     "model_module_version": "1.2.0",
     "model_name": "LayoutModel",
     "state": {
      "_model_module": "@jupyter-widgets/base",
      "_model_module_version": "1.2.0",
      "_model_name": "LayoutModel",
      "_view_count": null,
      "_view_module": "@jupyter-widgets/base",
      "_view_module_version": "1.2.0",
      "_view_name": "LayoutView",
      "align_content": null,
      "align_items": null,
      "align_self": null,
      "border": null,
      "bottom": null,
      "display": null,
      "flex": null,
      "flex_flow": null,
      "grid_area": null,
      "grid_auto_columns": null,
      "grid_auto_flow": null,
      "grid_auto_rows": null,
      "grid_column": null,
      "grid_gap": null,
      "grid_row": null,
      "grid_template_areas": null,
      "grid_template_columns": null,
      "grid_template_rows": null,
      "height": null,
      "justify_content": null,
      "justify_items": null,
      "left": null,
      "margin": null,
      "max_height": null,
      "max_width": null,
      "min_height": null,
      "min_width": null,
      "object_fit": null,
      "object_position": null,
      "order": null,
      "overflow": null,
      "overflow_x": null,
      "overflow_y": null,
      "padding": null,
      "right": null,
      "top": null,
      "visibility": null,
      "width": null
     }
    },
    "3b259df919d7439dbc3e4944a39c5461": {
     "model_module": "@jupyter-widgets/controls",
     "model_module_version": "1.5.0",
     "model_name": "ProgressStyleModel",
     "state": {
      "_model_module": "@jupyter-widgets/controls",
      "_model_module_version": "1.5.0",
      "_model_name": "ProgressStyleModel",
      "_view_count": null,
      "_view_module": "@jupyter-widgets/base",
      "_view_module_version": "1.2.0",
      "_view_name": "StyleView",
      "bar_color": null,
      "description_width": ""
     }
    },
    "3db9aa3192564e2f8fc29e4ad5a83169": {
     "model_module": "@jupyter-widgets/controls",
     "model_module_version": "1.5.0",
     "model_name": "FloatProgressModel",
     "state": {
      "_dom_classes": [],
      "_model_module": "@jupyter-widgets/controls",
      "_model_module_version": "1.5.0",
      "_model_name": "FloatProgressModel",
      "_view_count": null,
      "_view_module": "@jupyter-widgets/controls",
      "_view_module_version": "1.5.0",
      "_view_name": "ProgressView",
      "bar_style": "success",
      "description": "",
      "description_tooltip": null,
      "layout": "IPY_MODEL_551f9c65b3a44e9c83b8039fe09d13e9",
      "max": 1648877,
      "min": 0,
      "orientation": "horizontal",
      "style": "IPY_MODEL_7e19b4d540a64644843c1df2f4659442",
      "value": 1648877
     }
    },
    "40be0716f90f41c4ae50cb83de2f61d8": {
     "model_module": "@jupyter-widgets/controls",
     "model_module_version": "1.5.0",
     "model_name": "HTMLModel",
     "state": {
      "_dom_classes": [],
      "_model_module": "@jupyter-widgets/controls",
      "_model_module_version": "1.5.0",
      "_model_name": "HTMLModel",
      "_view_count": null,
      "_view_module": "@jupyter-widgets/controls",
      "_view_module_version": "1.5.0",
      "_view_name": "HTMLView",
      "description": "",
      "description_tooltip": null,
      "layout": "IPY_MODEL_80bb62d4b6c840c3b1016593502af014",
      "placeholder": "​",
      "style": "IPY_MODEL_2fbbb4e422c94de38ceec554221224e3",
      "value": " 4542/4542 [00:00&lt;00:00, 197985.17it/s]"
     }
    },
    "465e5a1586c7458d840cc7951b5dba3f": {
     "model_module": "@jupyter-widgets/base",
     "model_module_version": "1.2.0",
     "model_name": "LayoutModel",
     "state": {
      "_model_module": "@jupyter-widgets/base",
      "_model_module_version": "1.2.0",
      "_model_name": "LayoutModel",
      "_view_count": null,
      "_view_module": "@jupyter-widgets/base",
      "_view_module_version": "1.2.0",
      "_view_name": "LayoutView",
      "align_content": null,
      "align_items": null,
      "align_self": null,
      "border": null,
      "bottom": null,
      "display": null,
      "flex": null,
      "flex_flow": null,
      "grid_area": null,
      "grid_auto_columns": null,
      "grid_auto_flow": null,
      "grid_auto_rows": null,
      "grid_column": null,
      "grid_gap": null,
      "grid_row": null,
      "grid_template_areas": null,
      "grid_template_columns": null,
      "grid_template_rows": null,
      "height": null,
      "justify_content": null,
      "justify_items": null,
      "left": null,
      "margin": null,
      "max_height": null,
      "max_width": null,
      "min_height": null,
      "min_width": null,
      "object_fit": null,
      "object_position": null,
      "order": null,
      "overflow": null,
      "overflow_x": null,
      "overflow_y": null,
      "padding": null,
      "right": null,
      "top": null,
      "visibility": null,
      "width": null
     }
    },
    "4e8920a7513941b1b4485ee4cee7b9d1": {
     "model_module": "@jupyter-widgets/controls",
     "model_module_version": "1.5.0",
     "model_name": "DescriptionStyleModel",
     "state": {
      "_model_module": "@jupyter-widgets/controls",
      "_model_module_version": "1.5.0",
      "_model_name": "DescriptionStyleModel",
      "_view_count": null,
      "_view_module": "@jupyter-widgets/base",
      "_view_module_version": "1.2.0",
      "_view_name": "StyleView",
      "description_width": ""
     }
    },
    "5202df7af9194ec3bc33b6c6aaa48fca": {
     "model_module": "@jupyter-widgets/controls",
     "model_module_version": "1.5.0",
     "model_name": "ProgressStyleModel",
     "state": {
      "_model_module": "@jupyter-widgets/controls",
      "_model_module_version": "1.5.0",
      "_model_name": "ProgressStyleModel",
      "_view_count": null,
      "_view_module": "@jupyter-widgets/base",
      "_view_module_version": "1.2.0",
      "_view_name": "StyleView",
      "bar_color": null,
      "description_width": ""
     }
    },
    "53489b81238048f08400f2a21147d2ef": {
     "model_module": "@jupyter-widgets/controls",
     "model_module_version": "1.5.0",
     "model_name": "HTMLModel",
     "state": {
      "_dom_classes": [],
      "_model_module": "@jupyter-widgets/controls",
      "_model_module_version": "1.5.0",
      "_model_name": "HTMLModel",
      "_view_count": null,
      "_view_module": "@jupyter-widgets/controls",
      "_view_module_version": "1.5.0",
      "_view_name": "HTMLView",
      "description": "",
      "description_tooltip": null,
      "layout": "IPY_MODEL_cbb53ded27f64e5eace028c5c210294c",
      "placeholder": "​",
      "style": "IPY_MODEL_b720ab15c9584328bc90c1498d9e13b9",
      "value": " 28881/28881 [00:00&lt;00:00, 1867418.35it/s]"
     }
    },
    "551f9c65b3a44e9c83b8039fe09d13e9": {
     "model_module": "@jupyter-widgets/base",
     "model_module_version": "1.2.0",
     "model_name": "LayoutModel",
     "state": {
      "_model_module": "@jupyter-widgets/base",
      "_model_module_version": "1.2.0",
      "_model_name": "LayoutModel",
      "_view_count": null,
      "_view_module": "@jupyter-widgets/base",
      "_view_module_version": "1.2.0",
      "_view_name": "LayoutView",
      "align_content": null,
      "align_items": null,
      "align_self": null,
      "border": null,
      "bottom": null,
      "display": null,
      "flex": null,
      "flex_flow": null,
      "grid_area": null,
      "grid_auto_columns": null,
      "grid_auto_flow": null,
      "grid_auto_rows": null,
      "grid_column": null,
      "grid_gap": null,
      "grid_row": null,
      "grid_template_areas": null,
      "grid_template_columns": null,
      "grid_template_rows": null,
      "height": null,
      "justify_content": null,
      "justify_items": null,
      "left": null,
      "margin": null,
      "max_height": null,
      "max_width": null,
      "min_height": null,
      "min_width": null,
      "object_fit": null,
      "object_position": null,
      "order": null,
      "overflow": null,
      "overflow_x": null,
      "overflow_y": null,
      "padding": null,
      "right": null,
      "top": null,
      "visibility": null,
      "width": null
     }
    },
    "5cfa188e7cb8485e8533f3d44d29d43f": {
     "model_module": "@jupyter-widgets/controls",
     "model_module_version": "1.5.0",
     "model_name": "HTMLModel",
     "state": {
      "_dom_classes": [],
      "_model_module": "@jupyter-widgets/controls",
      "_model_module_version": "1.5.0",
      "_model_name": "HTMLModel",
      "_view_count": null,
      "_view_module": "@jupyter-widgets/controls",
      "_view_module_version": "1.5.0",
      "_view_name": "HTMLView",
      "description": "",
      "description_tooltip": null,
      "layout": "IPY_MODEL_5dd5a15c7c3742e2b69540b4c85da4d2",
      "placeholder": "​",
      "style": "IPY_MODEL_325665395c0f44e6a723fa30ab27ebdd",
      "value": "100%"
     }
    },
    "5dd5a15c7c3742e2b69540b4c85da4d2": {
     "model_module": "@jupyter-widgets/base",
     "model_module_version": "1.2.0",
     "model_name": "LayoutModel",
     "state": {
      "_model_module": "@jupyter-widgets/base",
      "_model_module_version": "1.2.0",
      "_model_name": "LayoutModel",
      "_view_count": null,
      "_view_module": "@jupyter-widgets/base",
      "_view_module_version": "1.2.0",
      "_view_name": "LayoutView",
      "align_content": null,
      "align_items": null,
      "align_self": null,
      "border": null,
      "bottom": null,
      "display": null,
      "flex": null,
      "flex_flow": null,
      "grid_area": null,
      "grid_auto_columns": null,
      "grid_auto_flow": null,
      "grid_auto_rows": null,
      "grid_column": null,
      "grid_gap": null,
      "grid_row": null,
      "grid_template_areas": null,
      "grid_template_columns": null,
      "grid_template_rows": null,
      "height": null,
      "justify_content": null,
      "justify_items": null,
      "left": null,
      "margin": null,
      "max_height": null,
      "max_width": null,
      "min_height": null,
      "min_width": null,
      "object_fit": null,
      "object_position": null,
      "order": null,
      "overflow": null,
      "overflow_x": null,
      "overflow_y": null,
      "padding": null,
      "right": null,
      "top": null,
      "visibility": null,
      "width": null
     }
    },
    "6c585d1d3d574cb99191e3bbb8f21c0f": {
     "model_module": "@jupyter-widgets/base",
     "model_module_version": "1.2.0",
     "model_name": "LayoutModel",
     "state": {
      "_model_module": "@jupyter-widgets/base",
      "_model_module_version": "1.2.0",
      "_model_name": "LayoutModel",
      "_view_count": null,
      "_view_module": "@jupyter-widgets/base",
      "_view_module_version": "1.2.0",
      "_view_name": "LayoutView",
      "align_content": null,
      "align_items": null,
      "align_self": null,
      "border": null,
      "bottom": null,
      "display": null,
      "flex": null,
      "flex_flow": null,
      "grid_area": null,
      "grid_auto_columns": null,
      "grid_auto_flow": null,
      "grid_auto_rows": null,
      "grid_column": null,
      "grid_gap": null,
      "grid_row": null,
      "grid_template_areas": null,
      "grid_template_columns": null,
      "grid_template_rows": null,
      "height": null,
      "justify_content": null,
      "justify_items": null,
      "left": null,
      "margin": null,
      "max_height": null,
      "max_width": null,
      "min_height": null,
      "min_width": null,
      "object_fit": null,
      "object_position": null,
      "order": null,
      "overflow": null,
      "overflow_x": null,
      "overflow_y": null,
      "padding": null,
      "right": null,
      "top": null,
      "visibility": null,
      "width": null
     }
    },
    "704d861dc8984137b58eddcdc781bcbc": {
     "model_module": "@jupyter-widgets/base",
     "model_module_version": "1.2.0",
     "model_name": "LayoutModel",
     "state": {
      "_model_module": "@jupyter-widgets/base",
      "_model_module_version": "1.2.0",
      "_model_name": "LayoutModel",
      "_view_count": null,
      "_view_module": "@jupyter-widgets/base",
      "_view_module_version": "1.2.0",
      "_view_name": "LayoutView",
      "align_content": null,
      "align_items": null,
      "align_self": null,
      "border": null,
      "bottom": null,
      "display": null,
      "flex": null,
      "flex_flow": null,
      "grid_area": null,
      "grid_auto_columns": null,
      "grid_auto_flow": null,
      "grid_auto_rows": null,
      "grid_column": null,
      "grid_gap": null,
      "grid_row": null,
      "grid_template_areas": null,
      "grid_template_columns": null,
      "grid_template_rows": null,
      "height": null,
      "justify_content": null,
      "justify_items": null,
      "left": null,
      "margin": null,
      "max_height": null,
      "max_width": null,
      "min_height": null,
      "min_width": null,
      "object_fit": null,
      "object_position": null,
      "order": null,
      "overflow": null,
      "overflow_x": null,
      "overflow_y": null,
      "padding": null,
      "right": null,
      "top": null,
      "visibility": null,
      "width": null
     }
    },
    "7461e40a4e424c11b6e8764dac313c25": {
     "model_module": "@jupyter-widgets/controls",
     "model_module_version": "1.5.0",
     "model_name": "FloatProgressModel",
     "state": {
      "_dom_classes": [],
      "_model_module": "@jupyter-widgets/controls",
      "_model_module_version": "1.5.0",
      "_model_name": "FloatProgressModel",
      "_view_count": null,
      "_view_module": "@jupyter-widgets/controls",
      "_view_module_version": "1.5.0",
      "_view_name": "ProgressView",
      "bar_style": "success",
      "description": "",
      "description_tooltip": null,
      "layout": "IPY_MODEL_96fbf691c2cd4733b876e0be02b95e58",
      "max": 9912422,
      "min": 0,
      "orientation": "horizontal",
      "style": "IPY_MODEL_3b259df919d7439dbc3e4944a39c5461",
      "value": 9912422
     }
    },
    "75fcbb2c90e44e8487ad8238773ffc0b": {
     "model_module": "@jupyter-widgets/controls",
     "model_module_version": "1.5.0",
     "model_name": "ProgressStyleModel",
     "state": {
      "_model_module": "@jupyter-widgets/controls",
      "_model_module_version": "1.5.0",
      "_model_name": "ProgressStyleModel",
      "_view_count": null,
      "_view_module": "@jupyter-widgets/base",
      "_view_module_version": "1.2.0",
      "_view_name": "StyleView",
      "bar_color": null,
      "description_width": ""
     }
    },
    "7e19b4d540a64644843c1df2f4659442": {
     "model_module": "@jupyter-widgets/controls",
     "model_module_version": "1.5.0",
     "model_name": "ProgressStyleModel",
     "state": {
      "_model_module": "@jupyter-widgets/controls",
      "_model_module_version": "1.5.0",
      "_model_name": "ProgressStyleModel",
      "_view_count": null,
      "_view_module": "@jupyter-widgets/base",
      "_view_module_version": "1.2.0",
      "_view_name": "StyleView",
      "bar_color": null,
      "description_width": ""
     }
    },
    "80bb62d4b6c840c3b1016593502af014": {
     "model_module": "@jupyter-widgets/base",
     "model_module_version": "1.2.0",
     "model_name": "LayoutModel",
     "state": {
      "_model_module": "@jupyter-widgets/base",
      "_model_module_version": "1.2.0",
      "_model_name": "LayoutModel",
      "_view_count": null,
      "_view_module": "@jupyter-widgets/base",
      "_view_module_version": "1.2.0",
      "_view_name": "LayoutView",
      "align_content": null,
      "align_items": null,
      "align_self": null,
      "border": null,
      "bottom": null,
      "display": null,
      "flex": null,
      "flex_flow": null,
      "grid_area": null,
      "grid_auto_columns": null,
      "grid_auto_flow": null,
      "grid_auto_rows": null,
      "grid_column": null,
      "grid_gap": null,
      "grid_row": null,
      "grid_template_areas": null,
      "grid_template_columns": null,
      "grid_template_rows": null,
      "height": null,
      "justify_content": null,
      "justify_items": null,
      "left": null,
      "margin": null,
      "max_height": null,
      "max_width": null,
      "min_height": null,
      "min_width": null,
      "object_fit": null,
      "object_position": null,
      "order": null,
      "overflow": null,
      "overflow_x": null,
      "overflow_y": null,
      "padding": null,
      "right": null,
      "top": null,
      "visibility": null,
      "width": null
     }
    },
    "8d5d6453f24e49de82940a384e221200": {
     "model_module": "@jupyter-widgets/controls",
     "model_module_version": "1.5.0",
     "model_name": "HTMLModel",
     "state": {
      "_dom_classes": [],
      "_model_module": "@jupyter-widgets/controls",
      "_model_module_version": "1.5.0",
      "_model_name": "HTMLModel",
      "_view_count": null,
      "_view_module": "@jupyter-widgets/controls",
      "_view_module_version": "1.5.0",
      "_view_name": "HTMLView",
      "description": "",
      "description_tooltip": null,
      "layout": "IPY_MODEL_9f3589f2526544879fd5614e2670147c",
      "placeholder": "​",
      "style": "IPY_MODEL_afd3fc6cc7d24d80b119ff2588d1813d",
      "value": " 1648877/1648877 [00:00&lt;00:00, 47378854.54it/s]"
     }
    },
    "96fbf691c2cd4733b876e0be02b95e58": {
     "model_module": "@jupyter-widgets/base",
     "model_module_version": "1.2.0",
     "model_name": "LayoutModel",
     "state": {
      "_model_module": "@jupyter-widgets/base",
      "_model_module_version": "1.2.0",
      "_model_name": "LayoutModel",
      "_view_count": null,
      "_view_module": "@jupyter-widgets/base",
      "_view_module_version": "1.2.0",
      "_view_name": "LayoutView",
      "align_content": null,
      "align_items": null,
      "align_self": null,
      "border": null,
      "bottom": null,
      "display": null,
      "flex": null,
      "flex_flow": null,
      "grid_area": null,
      "grid_auto_columns": null,
      "grid_auto_flow": null,
      "grid_auto_rows": null,
      "grid_column": null,
      "grid_gap": null,
      "grid_row": null,
      "grid_template_areas": null,
      "grid_template_columns": null,
      "grid_template_rows": null,
      "height": null,
      "justify_content": null,
      "justify_items": null,
      "left": null,
      "margin": null,
      "max_height": null,
      "max_width": null,
      "min_height": null,
      "min_width": null,
      "object_fit": null,
      "object_position": null,
      "order": null,
      "overflow": null,
      "overflow_x": null,
      "overflow_y": null,
      "padding": null,
      "right": null,
      "top": null,
      "visibility": null,
      "width": null
     }
    },
    "9f3589f2526544879fd5614e2670147c": {
     "model_module": "@jupyter-widgets/base",
     "model_module_version": "1.2.0",
     "model_name": "LayoutModel",
     "state": {
      "_model_module": "@jupyter-widgets/base",
      "_model_module_version": "1.2.0",
      "_model_name": "LayoutModel",
      "_view_count": null,
      "_view_module": "@jupyter-widgets/base",
      "_view_module_version": "1.2.0",
      "_view_name": "LayoutView",
      "align_content": null,
      "align_items": null,
      "align_self": null,
      "border": null,
      "bottom": null,
      "display": null,
      "flex": null,
      "flex_flow": null,
      "grid_area": null,
      "grid_auto_columns": null,
      "grid_auto_flow": null,
      "grid_auto_rows": null,
      "grid_column": null,
      "grid_gap": null,
      "grid_row": null,
      "grid_template_areas": null,
      "grid_template_columns": null,
      "grid_template_rows": null,
      "height": null,
      "justify_content": null,
      "justify_items": null,
      "left": null,
      "margin": null,
      "max_height": null,
      "max_width": null,
      "min_height": null,
      "min_width": null,
      "object_fit": null,
      "object_position": null,
      "order": null,
      "overflow": null,
      "overflow_x": null,
      "overflow_y": null,
      "padding": null,
      "right": null,
      "top": null,
      "visibility": null,
      "width": null
     }
    },
    "a14fe60adeee49eb813199f614fd96f2": {
     "model_module": "@jupyter-widgets/controls",
     "model_module_version": "1.5.0",
     "model_name": "FloatProgressModel",
     "state": {
      "_dom_classes": [],
      "_model_module": "@jupyter-widgets/controls",
      "_model_module_version": "1.5.0",
      "_model_name": "FloatProgressModel",
      "_view_count": null,
      "_view_module": "@jupyter-widgets/controls",
      "_view_module_version": "1.5.0",
      "_view_name": "ProgressView",
      "bar_style": "success",
      "description": "",
      "description_tooltip": null,
      "layout": "IPY_MODEL_ab07bb79cba24a5ea933315c7b59991f",
      "max": 28881,
      "min": 0,
      "orientation": "horizontal",
      "style": "IPY_MODEL_5202df7af9194ec3bc33b6c6aaa48fca",
      "value": 28881
     }
    },
    "a98f2a8568ed4d73bdb41c85b9cc0042": {
     "model_module": "@jupyter-widgets/controls",
     "model_module_version": "1.5.0",
     "model_name": "HBoxModel",
     "state": {
      "_dom_classes": [],
      "_model_module": "@jupyter-widgets/controls",
      "_model_module_version": "1.5.0",
      "_model_name": "HBoxModel",
      "_view_count": null,
      "_view_module": "@jupyter-widgets/controls",
      "_view_module_version": "1.5.0",
      "_view_name": "HBoxView",
      "box_style": "",
      "children": [
       "IPY_MODEL_1d522a7abd084a1f8a3de0f7d994401c",
       "IPY_MODEL_3db9aa3192564e2f8fc29e4ad5a83169",
       "IPY_MODEL_8d5d6453f24e49de82940a384e221200"
      ],
      "layout": "IPY_MODEL_3a852102cf5548b7a51411455b89a17f"
     }
    },
    "aa95b7445cf04943ad2a4c7d27958e16": {
     "model_module": "@jupyter-widgets/base",
     "model_module_version": "1.2.0",
     "model_name": "LayoutModel",
     "state": {
      "_model_module": "@jupyter-widgets/base",
      "_model_module_version": "1.2.0",
      "_model_name": "LayoutModel",
      "_view_count": null,
      "_view_module": "@jupyter-widgets/base",
      "_view_module_version": "1.2.0",
      "_view_name": "LayoutView",
      "align_content": null,
      "align_items": null,
      "align_self": null,
      "border": null,
      "bottom": null,
      "display": null,
      "flex": null,
      "flex_flow": null,
      "grid_area": null,
      "grid_auto_columns": null,
      "grid_auto_flow": null,
      "grid_auto_rows": null,
      "grid_column": null,
      "grid_gap": null,
      "grid_row": null,
      "grid_template_areas": null,
      "grid_template_columns": null,
      "grid_template_rows": null,
      "height": null,
      "justify_content": null,
      "justify_items": null,
      "left": null,
      "margin": null,
      "max_height": null,
      "max_width": null,
      "min_height": null,
      "min_width": null,
      "object_fit": null,
      "object_position": null,
      "order": null,
      "overflow": null,
      "overflow_x": null,
      "overflow_y": null,
      "padding": null,
      "right": null,
      "top": null,
      "visibility": null,
      "width": null
     }
    },
    "ab07bb79cba24a5ea933315c7b59991f": {
     "model_module": "@jupyter-widgets/base",
     "model_module_version": "1.2.0",
     "model_name": "LayoutModel",
     "state": {
      "_model_module": "@jupyter-widgets/base",
      "_model_module_version": "1.2.0",
      "_model_name": "LayoutModel",
      "_view_count": null,
      "_view_module": "@jupyter-widgets/base",
      "_view_module_version": "1.2.0",
      "_view_name": "LayoutView",
      "align_content": null,
      "align_items": null,
      "align_self": null,
      "border": null,
      "bottom": null,
      "display": null,
      "flex": null,
      "flex_flow": null,
      "grid_area": null,
      "grid_auto_columns": null,
      "grid_auto_flow": null,
      "grid_auto_rows": null,
      "grid_column": null,
      "grid_gap": null,
      "grid_row": null,
      "grid_template_areas": null,
      "grid_template_columns": null,
      "grid_template_rows": null,
      "height": null,
      "justify_content": null,
      "justify_items": null,
      "left": null,
      "margin": null,
      "max_height": null,
      "max_width": null,
      "min_height": null,
      "min_width": null,
      "object_fit": null,
      "object_position": null,
      "order": null,
      "overflow": null,
      "overflow_x": null,
      "overflow_y": null,
      "padding": null,
      "right": null,
      "top": null,
      "visibility": null,
      "width": null
     }
    },
    "afd3fc6cc7d24d80b119ff2588d1813d": {
     "model_module": "@jupyter-widgets/controls",
     "model_module_version": "1.5.0",
     "model_name": "DescriptionStyleModel",
     "state": {
      "_model_module": "@jupyter-widgets/controls",
      "_model_module_version": "1.5.0",
      "_model_name": "DescriptionStyleModel",
      "_view_count": null,
      "_view_module": "@jupyter-widgets/base",
      "_view_module_version": "1.2.0",
      "_view_name": "StyleView",
      "description_width": ""
     }
    },
    "b34c85bfdced4d6b9fc9ab96dc24fef6": {
     "model_module": "@jupyter-widgets/base",
     "model_module_version": "1.2.0",
     "model_name": "LayoutModel",
     "state": {
      "_model_module": "@jupyter-widgets/base",
      "_model_module_version": "1.2.0",
      "_model_name": "LayoutModel",
      "_view_count": null,
      "_view_module": "@jupyter-widgets/base",
      "_view_module_version": "1.2.0",
      "_view_name": "LayoutView",
      "align_content": null,
      "align_items": null,
      "align_self": null,
      "border": null,
      "bottom": null,
      "display": null,
      "flex": null,
      "flex_flow": null,
      "grid_area": null,
      "grid_auto_columns": null,
      "grid_auto_flow": null,
      "grid_auto_rows": null,
      "grid_column": null,
      "grid_gap": null,
      "grid_row": null,
      "grid_template_areas": null,
      "grid_template_columns": null,
      "grid_template_rows": null,
      "height": null,
      "justify_content": null,
      "justify_items": null,
      "left": null,
      "margin": null,
      "max_height": null,
      "max_width": null,
      "min_height": null,
      "min_width": null,
      "object_fit": null,
      "object_position": null,
      "order": null,
      "overflow": null,
      "overflow_x": null,
      "overflow_y": null,
      "padding": null,
      "right": null,
      "top": null,
      "visibility": null,
      "width": null
     }
    },
    "b59d984d30ab4665b8d696aef82f2333": {
     "model_module": "@jupyter-widgets/controls",
     "model_module_version": "1.5.0",
     "model_name": "HTMLModel",
     "state": {
      "_dom_classes": [],
      "_model_module": "@jupyter-widgets/controls",
      "_model_module_version": "1.5.0",
      "_model_name": "HTMLModel",
      "_view_count": null,
      "_view_module": "@jupyter-widgets/controls",
      "_view_module_version": "1.5.0",
      "_view_name": "HTMLView",
      "description": "",
      "description_tooltip": null,
      "layout": "IPY_MODEL_465e5a1586c7458d840cc7951b5dba3f",
      "placeholder": "​",
      "style": "IPY_MODEL_2f7d90ffef034401af148a5788be643c",
      "value": " 9912422/9912422 [00:00&lt;00:00, 195148987.75it/s]"
     }
    },
    "b720ab15c9584328bc90c1498d9e13b9": {
     "model_module": "@jupyter-widgets/controls",
     "model_module_version": "1.5.0",
     "model_name": "DescriptionStyleModel",
     "state": {
      "_model_module": "@jupyter-widgets/controls",
      "_model_module_version": "1.5.0",
      "_model_name": "DescriptionStyleModel",
      "_view_count": null,
      "_view_module": "@jupyter-widgets/base",
      "_view_module_version": "1.2.0",
      "_view_name": "StyleView",
      "description_width": ""
     }
    },
    "bd488c52f6a948eaab4e89cc151ad609": {
     "model_module": "@jupyter-widgets/base",
     "model_module_version": "1.2.0",
     "model_name": "LayoutModel",
     "state": {
      "_model_module": "@jupyter-widgets/base",
      "_model_module_version": "1.2.0",
      "_model_name": "LayoutModel",
      "_view_count": null,
      "_view_module": "@jupyter-widgets/base",
      "_view_module_version": "1.2.0",
      "_view_name": "LayoutView",
      "align_content": null,
      "align_items": null,
      "align_self": null,
      "border": null,
      "bottom": null,
      "display": null,
      "flex": null,
      "flex_flow": null,
      "grid_area": null,
      "grid_auto_columns": null,
      "grid_auto_flow": null,
      "grid_auto_rows": null,
      "grid_column": null,
      "grid_gap": null,
      "grid_row": null,
      "grid_template_areas": null,
      "grid_template_columns": null,
      "grid_template_rows": null,
      "height": null,
      "justify_content": null,
      "justify_items": null,
      "left": null,
      "margin": null,
      "max_height": null,
      "max_width": null,
      "min_height": null,
      "min_width": null,
      "object_fit": null,
      "object_position": null,
      "order": null,
      "overflow": null,
      "overflow_x": null,
      "overflow_y": null,
      "padding": null,
      "right": null,
      "top": null,
      "visibility": null,
      "width": null
     }
    },
    "c3a539150a5045119a44f9c7ca74b844": {
     "model_module": "@jupyter-widgets/controls",
     "model_module_version": "1.5.0",
     "model_name": "HTMLModel",
     "state": {
      "_dom_classes": [],
      "_model_module": "@jupyter-widgets/controls",
      "_model_module_version": "1.5.0",
      "_model_name": "HTMLModel",
      "_view_count": null,
      "_view_module": "@jupyter-widgets/controls",
      "_view_module_version": "1.5.0",
      "_view_name": "HTMLView",
      "description": "",
      "description_tooltip": null,
      "layout": "IPY_MODEL_ce71e1760bba4c90bc437d76c9058361",
      "placeholder": "​",
      "style": "IPY_MODEL_129ece425d5343f78dc0625256652e61",
      "value": "100%"
     }
    },
    "cbb53ded27f64e5eace028c5c210294c": {
     "model_module": "@jupyter-widgets/base",
     "model_module_version": "1.2.0",
     "model_name": "LayoutModel",
     "state": {
      "_model_module": "@jupyter-widgets/base",
      "_model_module_version": "1.2.0",
      "_model_name": "LayoutModel",
      "_view_count": null,
      "_view_module": "@jupyter-widgets/base",
      "_view_module_version": "1.2.0",
      "_view_name": "LayoutView",
      "align_content": null,
      "align_items": null,
      "align_self": null,
      "border": null,
      "bottom": null,
      "display": null,
      "flex": null,
      "flex_flow": null,
      "grid_area": null,
      "grid_auto_columns": null,
      "grid_auto_flow": null,
      "grid_auto_rows": null,
      "grid_column": null,
      "grid_gap": null,
      "grid_row": null,
      "grid_template_areas": null,
      "grid_template_columns": null,
      "grid_template_rows": null,
      "height": null,
      "justify_content": null,
      "justify_items": null,
      "left": null,
      "margin": null,
      "max_height": null,
      "max_width": null,
      "min_height": null,
      "min_width": null,
      "object_fit": null,
      "object_position": null,
      "order": null,
      "overflow": null,
      "overflow_x": null,
      "overflow_y": null,
      "padding": null,
      "right": null,
      "top": null,
      "visibility": null,
      "width": null
     }
    },
    "ce71e1760bba4c90bc437d76c9058361": {
     "model_module": "@jupyter-widgets/base",
     "model_module_version": "1.2.0",
     "model_name": "LayoutModel",
     "state": {
      "_model_module": "@jupyter-widgets/base",
      "_model_module_version": "1.2.0",
      "_model_name": "LayoutModel",
      "_view_count": null,
      "_view_module": "@jupyter-widgets/base",
      "_view_module_version": "1.2.0",
      "_view_name": "LayoutView",
      "align_content": null,
      "align_items": null,
      "align_self": null,
      "border": null,
      "bottom": null,
      "display": null,
      "flex": null,
      "flex_flow": null,
      "grid_area": null,
      "grid_auto_columns": null,
      "grid_auto_flow": null,
      "grid_auto_rows": null,
      "grid_column": null,
      "grid_gap": null,
      "grid_row": null,
      "grid_template_areas": null,
      "grid_template_columns": null,
      "grid_template_rows": null,
      "height": null,
      "justify_content": null,
      "justify_items": null,
      "left": null,
      "margin": null,
      "max_height": null,
      "max_width": null,
      "min_height": null,
      "min_width": null,
      "object_fit": null,
      "object_position": null,
      "order": null,
      "overflow": null,
      "overflow_x": null,
      "overflow_y": null,
      "padding": null,
      "right": null,
      "top": null,
      "visibility": null,
      "width": null
     }
    },
    "d3218e9c382748b193f2725b40d36f31": {
     "model_module": "@jupyter-widgets/controls",
     "model_module_version": "1.5.0",
     "model_name": "FloatProgressModel",
     "state": {
      "_dom_classes": [],
      "_model_module": "@jupyter-widgets/controls",
      "_model_module_version": "1.5.0",
      "_model_name": "FloatProgressModel",
      "_view_count": null,
      "_view_module": "@jupyter-widgets/controls",
      "_view_module_version": "1.5.0",
      "_view_name": "ProgressView",
      "bar_style": "success",
      "description": "",
      "description_tooltip": null,
      "layout": "IPY_MODEL_b34c85bfdced4d6b9fc9ab96dc24fef6",
      "max": 4542,
      "min": 0,
      "orientation": "horizontal",
      "style": "IPY_MODEL_75fcbb2c90e44e8487ad8238773ffc0b",
      "value": 4542
     }
    },
    "e403b4787ad842fd8d36af8edff2d47b": {
     "model_module": "@jupyter-widgets/base",
     "model_module_version": "1.2.0",
     "model_name": "LayoutModel",
     "state": {
      "_model_module": "@jupyter-widgets/base",
      "_model_module_version": "1.2.0",
      "_model_name": "LayoutModel",
      "_view_count": null,
      "_view_module": "@jupyter-widgets/base",
      "_view_module_version": "1.2.0",
      "_view_name": "LayoutView",
      "align_content": null,
      "align_items": null,
      "align_self": null,
      "border": null,
      "bottom": null,
      "display": null,
      "flex": null,
      "flex_flow": null,
      "grid_area": null,
      "grid_auto_columns": null,
      "grid_auto_flow": null,
      "grid_auto_rows": null,
      "grid_column": null,
      "grid_gap": null,
      "grid_row": null,
      "grid_template_areas": null,
      "grid_template_columns": null,
      "grid_template_rows": null,
      "height": null,
      "justify_content": null,
      "justify_items": null,
      "left": null,
      "margin": null,
      "max_height": null,
      "max_width": null,
      "min_height": null,
      "min_width": null,
      "object_fit": null,
      "object_position": null,
      "order": null,
      "overflow": null,
      "overflow_x": null,
      "overflow_y": null,
      "padding": null,
      "right": null,
      "top": null,
      "visibility": null,
      "width": null
     }
    },
    "e60561e7716d431fac766843b096608b": {
     "model_module": "@jupyter-widgets/controls",
     "model_module_version": "1.5.0",
     "model_name": "HTMLModel",
     "state": {
      "_dom_classes": [],
      "_model_module": "@jupyter-widgets/controls",
      "_model_module_version": "1.5.0",
      "_model_name": "HTMLModel",
      "_view_count": null,
      "_view_module": "@jupyter-widgets/controls",
      "_view_module_version": "1.5.0",
      "_view_name": "HTMLView",
      "description": "",
      "description_tooltip": null,
      "layout": "IPY_MODEL_e403b4787ad842fd8d36af8edff2d47b",
      "placeholder": "​",
      "style": "IPY_MODEL_4e8920a7513941b1b4485ee4cee7b9d1",
      "value": "100%"
     }
    },
    "ecb6bf9ab43b4049b13d6376c0c1f6d6": {
     "model_module": "@jupyter-widgets/controls",
     "model_module_version": "1.5.0",
     "model_name": "DescriptionStyleModel",
     "state": {
      "_model_module": "@jupyter-widgets/controls",
      "_model_module_version": "1.5.0",
      "_model_name": "DescriptionStyleModel",
      "_view_count": null,
      "_view_module": "@jupyter-widgets/base",
      "_view_module_version": "1.2.0",
      "_view_name": "StyleView",
      "description_width": ""
     }
    },
    "f621c9a18b214abda7dc64b5228bda39": {
     "model_module": "@jupyter-widgets/controls",
     "model_module_version": "1.5.0",
     "model_name": "HBoxModel",
     "state": {
      "_dom_classes": [],
      "_model_module": "@jupyter-widgets/controls",
      "_model_module_version": "1.5.0",
      "_model_name": "HBoxModel",
      "_view_count": null,
      "_view_module": "@jupyter-widgets/controls",
      "_view_module_version": "1.5.0",
      "_view_name": "HBoxView",
      "box_style": "",
      "children": [
       "IPY_MODEL_c3a539150a5045119a44f9c7ca74b844",
       "IPY_MODEL_a14fe60adeee49eb813199f614fd96f2",
       "IPY_MODEL_53489b81238048f08400f2a21147d2ef"
      ],
      "layout": "IPY_MODEL_bd488c52f6a948eaab4e89cc151ad609"
     }
    },
    "fce6633d46724e0ea8549f52eef96498": {
     "model_module": "@jupyter-widgets/controls",
     "model_module_version": "1.5.0",
     "model_name": "HBoxModel",
     "state": {
      "_dom_classes": [],
      "_model_module": "@jupyter-widgets/controls",
      "_model_module_version": "1.5.0",
      "_model_name": "HBoxModel",
      "_view_count": null,
      "_view_module": "@jupyter-widgets/controls",
      "_view_module_version": "1.5.0",
      "_view_name": "HBoxView",
      "box_style": "",
      "children": [
       "IPY_MODEL_5cfa188e7cb8485e8533f3d44d29d43f",
       "IPY_MODEL_d3218e9c382748b193f2725b40d36f31",
       "IPY_MODEL_40be0716f90f41c4ae50cb83de2f61d8"
      ],
      "layout": "IPY_MODEL_6c585d1d3d574cb99191e3bbb8f21c0f"
     }
    }
   }
  }
 },
 "nbformat": 4,
 "nbformat_minor": 5
}
